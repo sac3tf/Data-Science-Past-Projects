{
  "nbformat": 4,
  "nbformat_minor": 0,
  "metadata": {
    "kernelspec": {
      "display_name": "Python 3",
      "language": "python",
      "name": "python3"
    },
    "language_info": {
      "codemirror_mode": {
        "name": "ipython",
        "version": 3
      },
      "file_extension": ".py",
      "mimetype": "text/x-python",
      "name": "python",
      "nbconvert_exporter": "python",
      "pygments_lexer": "ipython3",
      "version": "3.7.2"
    },
    "toc": {
      "base_numbering": 1,
      "nav_menu": {},
      "number_sections": true,
      "sideBar": true,
      "skip_h1_title": false,
      "title_cell": "Table of Contents",
      "title_sidebar": "Contents",
      "toc_cell": false,
      "toc_position": {
        "height": "calc(100% - 180px)",
        "left": "10px",
        "top": "150px",
        "width": "205px"
      },
      "toc_section_display": true,
      "toc_window_display": true
    },
    "colab": {
      "name": "AutoSpec.ipynb",
      "provenance": [],
      "collapsed_sections": [
        "SyTRE9GGXALZ",
        "bQA2RcpiebGp",
        "4ANumf7aebG6",
        "VWsdeeJWebHZ",
        "8SJFGN3QebIP",
        "Ni1pkESKebIR",
        "teJIaSiJebIY",
        "mzyJzdZyebIx",
        "OnfxzAPvebJF"
      ]
    },
    "widgets": {
      "application/vnd.jupyter.widget-state+json": {
        "5913dfe435e84f998ccf77bb4989338b": {
          "model_module": "@jupyter-widgets/controls",
          "model_name": "VBoxModel",
          "state": {
            "_view_name": "VBoxView",
            "_dom_classes": [
              "widget-interact"
            ],
            "_model_name": "VBoxModel",
            "_view_module": "@jupyter-widgets/controls",
            "_model_module_version": "1.5.0",
            "_view_count": null,
            "_view_module_version": "1.5.0",
            "box_style": "",
            "layout": "IPY_MODEL_994c540da0e14425ac904fcbfbcd90c8",
            "_model_module": "@jupyter-widgets/controls",
            "children": [
              "IPY_MODEL_66724bf3290d4e5c93076d5def1cff78",
              "IPY_MODEL_62d477fa29f34e9c8ac4ee81feabf173"
            ]
          }
        },
        "994c540da0e14425ac904fcbfbcd90c8": {
          "model_module": "@jupyter-widgets/base",
          "model_name": "LayoutModel",
          "state": {
            "_view_name": "LayoutView",
            "grid_template_rows": null,
            "right": null,
            "justify_content": null,
            "_view_module": "@jupyter-widgets/base",
            "overflow": null,
            "_model_module_version": "1.2.0",
            "_view_count": null,
            "flex_flow": null,
            "width": null,
            "min_width": null,
            "border": null,
            "align_items": null,
            "bottom": null,
            "_model_module": "@jupyter-widgets/base",
            "top": null,
            "grid_column": null,
            "overflow_y": null,
            "overflow_x": null,
            "grid_auto_flow": null,
            "grid_area": null,
            "grid_template_columns": null,
            "flex": null,
            "_model_name": "LayoutModel",
            "justify_items": null,
            "grid_row": null,
            "max_height": null,
            "align_content": null,
            "visibility": null,
            "align_self": null,
            "height": null,
            "min_height": null,
            "padding": null,
            "grid_auto_rows": null,
            "grid_gap": null,
            "max_width": null,
            "order": null,
            "_view_module_version": "1.2.0",
            "grid_template_areas": null,
            "object_position": null,
            "object_fit": null,
            "grid_auto_columns": null,
            "margin": null,
            "display": null,
            "left": null
          }
        },
        "66724bf3290d4e5c93076d5def1cff78": {
          "model_module": "@jupyter-widgets/controls",
          "model_name": "DropdownModel",
          "state": {
            "_options_labels": [
              "Methyl Formate",
              "Cyclopropynylidyne",
              "Oxetane",
              "Nitric acid",
              "Butyronitrile",
              "Ethanol, gauche/anti combined",
              "Hydroxyacetone",
              "Pyrrole",
              "Phenol",
              "1,2-propanediol, gG'a",
              "Glycine",
              "<i>n</i>-Propanol",
              "Glycolaldehyde",
              "Unknown",
              "Methanol",
              "&alpha;-Alanine",
              "Scandium monosulfide",
              "(Z)-Cyanovinylacetylene",
              "gauche-n-butyronitrile, v<sub>30</sub> = 2",
              "Acetaldehyde",
              "Propane",
              "Dihydroxyacetone",
              "Aminoethanol",
              "Peroxynitrous acid",
              "iso-propyl cyanide",
              "n-Butyl cyanide",
              "Vinyl Cyanide",
              "Propargyl Alcohol",
              "anti-n-butyronitrile, v<sub>18</sub> = 1",
              "Propadienylidene",
              "n-Butyronitrile, gauche/anti combined",
              "Benzaldehyde",
              "Propenoic acid",
              "Aminoacetonitrile",
              "Diethyl ether",
              "1-butyne",
              "<i>cyclo</i>-Propyl cyanide",
              "Carbonyl cyanide",
              "Potassium chloride",
              "Monothioformic acid",
              "Chlorine nitrate",
              "Chlorine peroxide",
              "Disulfur dioxide, <i>cis</i>-isomer",
              "Cyanoacetylene",
              "Acetone",
              "Methyl peroxide",
              "Difluoromethane",
              "1,3-propanediol, gGG'g",
              "Cyanoethenone",
              "Ethylene Glycol",
              "Sulfur Dioxide",
              "Methyl chloride",
              "gauche-Ethanol",
              "Methyleneaminoacetonitrile",
              "Tetrasulfur",
              "3-Methylbutyronitrile",
              "Ethyl cyanide",
              "Trans - HONO",
              "Propenal",
              "Peroxynitric acid",
              "Formamide",
              "Methyl Cyanide",
              "Cyanopropynyl",
              "Methyl formate, v<sub>t</sub> = 0, 1",
              "Bromine Dioxide",
              "Ethyl formate",
              "1,2-propanediol, aG'g",
              "Sulfuric acid",
              "Formyl Chloride",
              "gauche-n-butyronitrile, v<sub>29</sub> = 1",
              "2-Cyanobutane",
              "Ethylene Oxide",
              "Cyclopropenylidene",
              "Ethyl Cyanide",
              "Benzonitrile",
              "Anisole",
              "o-Benzyne",
              "<i>anti</i>-Ethanol",
              "Propadienonethione",
              "Sodium monoxide",
              "Isocyanic Acid",
              "Hexatriynylformyl",
              "Ethanethiol, gauche",
              "1,2-propanediol, g'G'g",
              "Methyl Carbamate",
              "HOOO radical",
              "1,3-Butadiynyl radical",
              "Hydroxyacetonitrile",
              "Methyl diacetylene",
              "Formic Acid",
              "Pyridine",
              "Cyanobutadiyne",
              "Carbonyl fluoride",
              "Vinyl formate",
              "gauche-n-butyronitrile, v<sub>28</sub> = 1",
              "Vinyl Isocyanide",
              "Ethyl cyanide, v<sub>12</sub> = 1",
              "anti-n-butyronitrile, v<sub>30</sub> = 1",
              "Ethylenimine",
              "Thioformaldehyde",
              "gauche-n-butyronitrile",
              "Cyanomethyl",
              "trans-Ethanol",
              "Chloryl chloride",
              "Cyanamide",
              "Methanimine",
              "Vinylamine",
              "Methyl Acetylene",
              "Phenylacetylene",
              "Formic acid",
              "Vinylcyanoacetylene",
              "Diketene",
              "Chlorine dioxide",
              "anti-n-butyronitrile, v<sub>30</sub> = 2",
              "Cyanobutadiynylide anion",
              "Hydrogen peroxide",
              "Hydroxyl radical",
              "Ammonia",
              "Dimethyl ether",
              "Cyanoallene",
              "Methyl cyanate",
              "Formaldehyde",
              "Propynylidyne",
              "Disulfurmonoxide",
              "Manganese monoxide",
              "Ozone",
              "2-Propynal",
              "Magnesium Cyanide",
              "Thioheptahexaenylidene",
              "Ethanethiol, anti"
            ],
            "_view_name": "DropdownView",
            "style": "IPY_MODEL_df152172601b46c68b55512b6170382f",
            "_dom_classes": [],
            "description": "Molecule:",
            "_model_name": "DropdownModel",
            "index": 0,
            "_view_module": "@jupyter-widgets/controls",
            "_model_module_version": "1.5.0",
            "_view_count": null,
            "disabled": false,
            "_view_module_version": "1.5.0",
            "description_tooltip": null,
            "_model_module": "@jupyter-widgets/controls",
            "layout": "IPY_MODEL_126716e9ddaf4b60b83a9257ad4bfd2f"
          }
        },
        "62d477fa29f34e9c8ac4ee81feabf173": {
          "model_module": "@jupyter-widgets/output",
          "model_name": "OutputModel",
          "state": {
            "_view_name": "OutputView",
            "msg_id": "",
            "_dom_classes": [],
            "_model_name": "OutputModel",
            "outputs": [],
            "_view_module": "@jupyter-widgets/output",
            "_model_module_version": "1.0.0",
            "_view_count": null,
            "_view_module_version": "1.0.0",
            "layout": "IPY_MODEL_e642ba032ea1419f823bf4ed157610a8",
            "_model_module": "@jupyter-widgets/output"
          }
        },
        "df152172601b46c68b55512b6170382f": {
          "model_module": "@jupyter-widgets/controls",
          "model_name": "DescriptionStyleModel",
          "state": {
            "_view_name": "StyleView",
            "_model_name": "DescriptionStyleModel",
            "description_width": "",
            "_view_module": "@jupyter-widgets/base",
            "_model_module_version": "1.5.0",
            "_view_count": null,
            "_view_module_version": "1.2.0",
            "_model_module": "@jupyter-widgets/controls"
          }
        },
        "126716e9ddaf4b60b83a9257ad4bfd2f": {
          "model_module": "@jupyter-widgets/base",
          "model_name": "LayoutModel",
          "state": {
            "_view_name": "LayoutView",
            "grid_template_rows": null,
            "right": null,
            "justify_content": null,
            "_view_module": "@jupyter-widgets/base",
            "overflow": null,
            "_model_module_version": "1.2.0",
            "_view_count": null,
            "flex_flow": null,
            "width": null,
            "min_width": null,
            "border": null,
            "align_items": null,
            "bottom": null,
            "_model_module": "@jupyter-widgets/base",
            "top": null,
            "grid_column": null,
            "overflow_y": null,
            "overflow_x": null,
            "grid_auto_flow": null,
            "grid_area": null,
            "grid_template_columns": null,
            "flex": null,
            "_model_name": "LayoutModel",
            "justify_items": null,
            "grid_row": null,
            "max_height": null,
            "align_content": null,
            "visibility": null,
            "align_self": null,
            "height": null,
            "min_height": null,
            "padding": null,
            "grid_auto_rows": null,
            "grid_gap": null,
            "max_width": null,
            "order": null,
            "_view_module_version": "1.2.0",
            "grid_template_areas": null,
            "object_position": null,
            "object_fit": null,
            "grid_auto_columns": null,
            "margin": null,
            "display": null,
            "left": null
          }
        },
        "9f026212a3d34a7080fa9ab0523a3778": {
          "model_module": "@jupyter-widgets/controls",
          "model_name": "VBoxModel",
          "state": {
            "_view_name": "VBoxView",
            "_dom_classes": [
              "widget-interact"
            ],
            "_model_name": "VBoxModel",
            "_view_module": "@jupyter-widgets/controls",
            "_model_module_version": "1.5.0",
            "_view_count": null,
            "_view_module_version": "1.5.0",
            "box_style": "",
            "layout": "IPY_MODEL_23d88f0892d34cbb9d11538788f6d72f",
            "_model_module": "@jupyter-widgets/controls",
            "children": [
              "IPY_MODEL_76125e8371194165aae458ed03b9014e",
              "IPY_MODEL_c5c8c7d07d3f4384b94ce5e22e063944"
            ]
          }
        },
        "23d88f0892d34cbb9d11538788f6d72f": {
          "model_module": "@jupyter-widgets/base",
          "model_name": "LayoutModel",
          "state": {
            "_view_name": "LayoutView",
            "grid_template_rows": null,
            "right": null,
            "justify_content": null,
            "_view_module": "@jupyter-widgets/base",
            "overflow": null,
            "_model_module_version": "1.2.0",
            "_view_count": null,
            "flex_flow": null,
            "width": null,
            "min_width": null,
            "border": null,
            "align_items": null,
            "bottom": null,
            "_model_module": "@jupyter-widgets/base",
            "top": null,
            "grid_column": null,
            "overflow_y": null,
            "overflow_x": null,
            "grid_auto_flow": null,
            "grid_area": null,
            "grid_template_columns": null,
            "flex": null,
            "_model_name": "LayoutModel",
            "justify_items": null,
            "grid_row": null,
            "max_height": null,
            "align_content": null,
            "visibility": null,
            "align_self": null,
            "height": null,
            "min_height": null,
            "padding": null,
            "grid_auto_rows": null,
            "grid_gap": null,
            "max_width": null,
            "order": null,
            "_view_module_version": "1.2.0",
            "grid_template_areas": null,
            "object_position": null,
            "object_fit": null,
            "grid_auto_columns": null,
            "margin": null,
            "display": null,
            "left": null
          }
        },
        "76125e8371194165aae458ed03b9014e": {
          "model_module": "@jupyter-widgets/controls",
          "model_name": "DropdownModel",
          "state": {
            "_options_labels": [
              "Methyl Formate",
              "Cyclopropynylidyne",
              "Oxetane",
              "Nitric acid",
              "Butyronitrile",
              "Ethanol, gauche/anti combined",
              "Hydroxyacetone",
              "Pyrrole",
              "Phenol",
              "1,2-propanediol, gG'a",
              "Glycine",
              "<i>n</i>-Propanol",
              "Glycolaldehyde",
              "Methanol",
              "&alpha;-Alanine",
              "Scandium monosulfide",
              "(Z)-Cyanovinylacetylene",
              "gauche-n-butyronitrile, v<sub>30</sub> = 2",
              "Acetaldehyde",
              "Propane",
              "Dihydroxyacetone",
              "Aminoethanol",
              "Peroxynitrous acid",
              "iso-propyl cyanide",
              "n-Butyl cyanide",
              "Vinyl Cyanide",
              "Propargyl Alcohol",
              "anti-n-butyronitrile, v<sub>18</sub> = 1",
              "Propadienylidene",
              "n-Butyronitrile, gauche/anti combined",
              "Benzaldehyde",
              "Propenoic acid",
              "Aminoacetonitrile",
              "Diethyl ether",
              "1-butyne",
              "<i>cyclo</i>-Propyl cyanide",
              "Carbonyl cyanide",
              "Potassium chloride",
              "Monothioformic acid",
              "Chlorine nitrate",
              "Chlorine peroxide",
              "Disulfur dioxide, <i>cis</i>-isomer",
              "Cyanoacetylene",
              "Acetone",
              "Methyl peroxide",
              "Difluoromethane",
              "1,3-propanediol, gGG'g",
              "Cyanoethenone",
              "Ethylene Glycol",
              "Sulfur Dioxide",
              "Methyl chloride",
              "gauche-Ethanol",
              "Methyleneaminoacetonitrile",
              "Tetrasulfur",
              "3-Methylbutyronitrile",
              "Ethyl cyanide",
              "Trans - HONO",
              "Propenal",
              "Peroxynitric acid",
              "Formamide",
              "Methyl Cyanide",
              "Cyanopropynyl",
              "Methyl formate, v<sub>t</sub> = 0, 1",
              "Bromine Dioxide",
              "Ethyl formate",
              "1,2-propanediol, aG'g",
              "Sulfuric acid",
              "Formyl Chloride",
              "gauche-n-butyronitrile, v<sub>29</sub> = 1",
              "2-Cyanobutane",
              "Ethylene Oxide",
              "Cyclopropenylidene",
              "Ethyl Cyanide",
              "Benzonitrile",
              "Anisole",
              "o-Benzyne",
              "<i>anti</i>-Ethanol",
              "Propadienonethione",
              "Sodium monoxide",
              "Isocyanic Acid",
              "Hexatriynylformyl",
              "Ethanethiol, gauche",
              "1,2-propanediol, g'G'g",
              "Methyl Carbamate",
              "HOOO radical",
              "1,3-Butadiynyl radical",
              "Hydroxyacetonitrile",
              "Methyl diacetylene",
              "Formic Acid",
              "Pyridine",
              "Cyanobutadiyne",
              "Carbonyl fluoride",
              "Vinyl formate",
              "gauche-n-butyronitrile, v<sub>28</sub> = 1",
              "Vinyl Isocyanide",
              "Ethyl cyanide, v<sub>12</sub> = 1",
              "anti-n-butyronitrile, v<sub>30</sub> = 1",
              "Ethylenimine",
              "Thioformaldehyde",
              "gauche-n-butyronitrile",
              "Cyanomethyl",
              "trans-Ethanol",
              "Chloryl chloride",
              "Cyanamide",
              "Methanimine",
              "Vinylamine",
              "Methyl Acetylene",
              "Phenylacetylene",
              "Formic acid",
              "Vinylcyanoacetylene",
              "Diketene",
              "Chlorine dioxide",
              "anti-n-butyronitrile, v<sub>30</sub> = 2",
              "Cyanobutadiynylide anion",
              "Hydrogen peroxide",
              "Hydroxyl radical",
              "Ammonia",
              "Dimethyl ether",
              "Cyanoallene",
              "Methyl cyanate",
              "Formaldehyde",
              "Propynylidyne",
              "Disulfurmonoxide",
              "Manganese monoxide",
              "Ozone",
              "2-Propynal",
              "Magnesium Cyanide",
              "Thioheptahexaenylidene",
              "Ethanethiol, anti",
              "Unknown"
            ],
            "_view_name": "DropdownView",
            "style": "IPY_MODEL_eebe85343af34e8b8703aae8925507f4",
            "_dom_classes": [],
            "description": "Molecule:",
            "_model_name": "DropdownModel",
            "index": 0,
            "_view_module": "@jupyter-widgets/controls",
            "_model_module_version": "1.5.0",
            "_view_count": null,
            "disabled": false,
            "_view_module_version": "1.5.0",
            "description_tooltip": null,
            "_model_module": "@jupyter-widgets/controls",
            "layout": "IPY_MODEL_345f902ab7c1486aaac08202935dc14d"
          }
        },
        "c5c8c7d07d3f4384b94ce5e22e063944": {
          "model_module": "@jupyter-widgets/output",
          "model_name": "OutputModel",
          "state": {
            "_view_name": "OutputView",
            "msg_id": "",
            "_dom_classes": [],
            "_model_name": "OutputModel",
            "outputs": [],
            "_view_module": "@jupyter-widgets/output",
            "_model_module_version": "1.0.0",
            "_view_count": null,
            "_view_module_version": "1.0.0",
            "layout": "IPY_MODEL_1cb0dfc0b57b419180224ac906278cc7",
            "_model_module": "@jupyter-widgets/output"
          }
        },
        "eebe85343af34e8b8703aae8925507f4": {
          "model_module": "@jupyter-widgets/controls",
          "model_name": "DescriptionStyleModel",
          "state": {
            "_view_name": "StyleView",
            "_model_name": "DescriptionStyleModel",
            "description_width": "",
            "_view_module": "@jupyter-widgets/base",
            "_model_module_version": "1.5.0",
            "_view_count": null,
            "_view_module_version": "1.2.0",
            "_model_module": "@jupyter-widgets/controls"
          }
        },
        "345f902ab7c1486aaac08202935dc14d": {
          "model_module": "@jupyter-widgets/base",
          "model_name": "LayoutModel",
          "state": {
            "_view_name": "LayoutView",
            "grid_template_rows": null,
            "right": null,
            "justify_content": null,
            "_view_module": "@jupyter-widgets/base",
            "overflow": null,
            "_model_module_version": "1.2.0",
            "_view_count": null,
            "flex_flow": null,
            "width": null,
            "min_width": null,
            "border": null,
            "align_items": null,
            "bottom": null,
            "_model_module": "@jupyter-widgets/base",
            "top": null,
            "grid_column": null,
            "overflow_y": null,
            "overflow_x": null,
            "grid_auto_flow": null,
            "grid_area": null,
            "grid_template_columns": null,
            "flex": null,
            "_model_name": "LayoutModel",
            "justify_items": null,
            "grid_row": null,
            "max_height": null,
            "align_content": null,
            "visibility": null,
            "align_self": null,
            "height": null,
            "min_height": null,
            "padding": null,
            "grid_auto_rows": null,
            "grid_gap": null,
            "max_width": null,
            "order": null,
            "_view_module_version": "1.2.0",
            "grid_template_areas": null,
            "object_position": null,
            "object_fit": null,
            "grid_auto_columns": null,
            "margin": null,
            "display": null,
            "left": null
          }
        },
        "bbb3f46f6e264904a0d405c3fe00447a": {
          "model_module": "@jupyter-widgets/controls",
          "model_name": "ComboboxModel",
          "state": {
            "_view_name": "ComboboxView",
            "style": "IPY_MODEL_c5adce7972554691bfc045267be25ba9",
            "_dom_classes": [],
            "description": "Molecule:",
            "_model_name": "ComboboxModel",
            "placeholder": "Select a molecule to exclude",
            "_view_module": "@jupyter-widgets/controls",
            "_model_module_version": "1.5.0",
            "value": "",
            "_view_count": null,
            "disabled": false,
            "_view_module_version": "1.5.0",
            "continuous_update": true,
            "description_tooltip": null,
            "ensure_option": false,
            "_model_module": "@jupyter-widgets/controls",
            "options": [
              "None",
              "Methyl Formate",
              "Hydroxyacetone",
              "Phenol",
              "Glycine",
              "<i>n</i>-Propanol",
              "Methanol",
              "&alpha;-Alanine",
              "Propane",
              "Aminoethanol",
              "Vinyl Cyanide",
              "Propargyl Alcohol",
              "Diethyl ether",
              "<i>cyclo</i>-Propyl cyanide",
              "Carbonyl cyanide",
              "Monothioformic acid",
              "1,3-propanediol, gGG'g",
              "Methyl chloride",
              "3-Methylbutyronitrile",
              "Methyl Cyanide",
              "Bromine Dioxide",
              "1,2-propanediol, aG'g",
              "2-Cyanobutane",
              "Ethyl Cyanide",
              "Benzonitrile",
              "Anisole",
              "1,2-propanediol, g'G'g",
              "Methyl Carbamate",
              "Formic Acid",
              "gauche-n-butyronitrile, v<sub>28</sub> = 1",
              "Vinylamine",
              "Vinylcyanoacetylene",
              "Diketene",
              "Chlorine dioxide",
              "Unknown",
              "Cyanoacetylene",
              "Potassium chloride",
              "Cyanobutadiynylide anion",
              "Scandium monosulfide",
              "Cyanamide",
              "Propadienylidene",
              "Formamide",
              "Thioformaldehyde",
              "Cyanobutadiyne",
              "Cyanopropynyl",
              "Methanimine",
              "Methyl Acetylene",
              "1,3-Butadiynyl radical",
              "Propadienonethione",
              "Sulfuric acid",
              "Difluoromethane",
              "Propenal",
              "Butyronitrile",
              "Hydroxyacetonitrile",
              "Glycolaldehyde",
              "n-Butyl cyanide",
              "1,2-propanediol, gG'a",
              "Cyanoethenone",
              "o-Benzyne",
              "Pyridine",
              "Methyl diacetylene",
              "<i>anti</i>-Ethanol",
              "Hexatriynylformyl",
              "Benzaldehyde",
              "Pyrrole",
              "Disulfur dioxide, <i>cis</i>-isomer",
              "Vinyl formate",
              "(Z)-Cyanovinylacetylene",
              "iso-propyl cyanide",
              "Chloryl chloride",
              "Methyl formate, v<sub>t</sub> = 0, 1",
              "Formyl Chloride",
              "Sulfur Dioxide",
              "n-Butyronitrile, gauche/anti combined",
              "Acetaldehyde",
              "Vinyl Isocyanide",
              "Cyclopropynylidyne",
              "Peroxynitric acid",
              "Sodium monoxide",
              "Hydrogen peroxide",
              "Ethanol, gauche/anti combined",
              "gauche-n-butyronitrile",
              "Ethyl cyanide",
              "Chlorine nitrate",
              "Cyanomethyl",
              "gauche-Ethanol",
              "trans-Ethanol",
              "Chlorine peroxide",
              "Methyleneaminoacetonitrile",
              "Dihydroxyacetone",
              "Ethylene Glycol",
              "gauche-n-butyronitrile, v<sub>30</sub> = 2",
              "Oxetane",
              "Aminoacetonitrile",
              "Peroxynitrous acid",
              "Propenoic acid",
              "Tetrasulfur",
              "Dimethyl ether",
              "Acetone"
            ],
            "layout": "IPY_MODEL_26ca0201a4da4cb5b06003ef42111dd2"
          }
        },
        "c5adce7972554691bfc045267be25ba9": {
          "model_module": "@jupyter-widgets/controls",
          "model_name": "DescriptionStyleModel",
          "state": {
            "_view_name": "StyleView",
            "_model_name": "DescriptionStyleModel",
            "description_width": "",
            "_view_module": "@jupyter-widgets/base",
            "_model_module_version": "1.5.0",
            "_view_count": null,
            "_view_module_version": "1.2.0",
            "_model_module": "@jupyter-widgets/controls"
          }
        },
        "26ca0201a4da4cb5b06003ef42111dd2": {
          "model_module": "@jupyter-widgets/base",
          "model_name": "LayoutModel",
          "state": {
            "_view_name": "LayoutView",
            "grid_template_rows": null,
            "right": null,
            "justify_content": null,
            "_view_module": "@jupyter-widgets/base",
            "overflow": null,
            "_model_module_version": "1.2.0",
            "_view_count": null,
            "flex_flow": null,
            "width": null,
            "min_width": null,
            "border": null,
            "align_items": null,
            "bottom": null,
            "_model_module": "@jupyter-widgets/base",
            "top": null,
            "grid_column": null,
            "overflow_y": null,
            "overflow_x": null,
            "grid_auto_flow": null,
            "grid_area": null,
            "grid_template_columns": null,
            "flex": null,
            "_model_name": "LayoutModel",
            "justify_items": null,
            "grid_row": null,
            "max_height": null,
            "align_content": null,
            "visibility": null,
            "align_self": null,
            "height": null,
            "min_height": null,
            "padding": null,
            "grid_auto_rows": null,
            "grid_gap": null,
            "max_width": null,
            "order": null,
            "_view_module_version": "1.2.0",
            "grid_template_areas": null,
            "object_position": null,
            "object_fit": null,
            "grid_auto_columns": null,
            "margin": null,
            "display": null,
            "left": null
          }
        },
        "4ee062b3e27b4141b76cf8153e16fd5f": {
          "model_module": "@jupyter-widgets/controls",
          "model_name": "ButtonModel",
          "state": {
            "_view_name": "ButtonView",
            "style": "IPY_MODEL_4de41bd0fe7544488e674fbe74f3b389",
            "_dom_classes": [],
            "description": "Remove",
            "_model_name": "ButtonModel",
            "button_style": "",
            "_view_module": "@jupyter-widgets/controls",
            "_model_module_version": "1.5.0",
            "tooltip": "Click me",
            "_view_count": null,
            "disabled": true,
            "_view_module_version": "1.5.0",
            "layout": "IPY_MODEL_7e6c931094104bd2aebb95395688d6fc",
            "_model_module": "@jupyter-widgets/controls",
            "icon": "None"
          }
        },
        "4de41bd0fe7544488e674fbe74f3b389": {
          "model_module": "@jupyter-widgets/controls",
          "model_name": "ButtonStyleModel",
          "state": {
            "_view_name": "StyleView",
            "_model_name": "ButtonStyleModel",
            "_view_module": "@jupyter-widgets/base",
            "_model_module_version": "1.5.0",
            "_view_count": null,
            "button_color": null,
            "font_weight": "",
            "_view_module_version": "1.2.0",
            "_model_module": "@jupyter-widgets/controls"
          }
        },
        "7e6c931094104bd2aebb95395688d6fc": {
          "model_module": "@jupyter-widgets/base",
          "model_name": "LayoutModel",
          "state": {
            "_view_name": "LayoutView",
            "grid_template_rows": null,
            "right": null,
            "justify_content": null,
            "_view_module": "@jupyter-widgets/base",
            "overflow": null,
            "_model_module_version": "1.2.0",
            "_view_count": null,
            "flex_flow": null,
            "width": null,
            "min_width": null,
            "border": null,
            "align_items": null,
            "bottom": null,
            "_model_module": "@jupyter-widgets/base",
            "top": null,
            "grid_column": null,
            "overflow_y": null,
            "overflow_x": null,
            "grid_auto_flow": null,
            "grid_area": null,
            "grid_template_columns": null,
            "flex": null,
            "_model_name": "LayoutModel",
            "justify_items": null,
            "grid_row": null,
            "max_height": null,
            "align_content": null,
            "visibility": null,
            "align_self": null,
            "height": null,
            "min_height": null,
            "padding": null,
            "grid_auto_rows": null,
            "grid_gap": null,
            "max_width": null,
            "order": null,
            "_view_module_version": "1.2.0",
            "grid_template_areas": null,
            "object_position": null,
            "object_fit": null,
            "grid_auto_columns": null,
            "margin": null,
            "display": null,
            "left": null
          }
        },
        "503dc91717d84c56934e68698c158df8": {
          "model_module": "@jupyter-widgets/controls",
          "model_name": "VBoxModel",
          "state": {
            "_view_name": "VBoxView",
            "_dom_classes": [
              "widget-interact"
            ],
            "_model_name": "VBoxModel",
            "_view_module": "@jupyter-widgets/controls",
            "_model_module_version": "1.5.0",
            "_view_count": null,
            "_view_module_version": "1.5.0",
            "box_style": "",
            "layout": "IPY_MODEL_dd322358079b4430857be82f0c8803bc",
            "_model_module": "@jupyter-widgets/controls",
            "children": [
              "IPY_MODEL_0131310640ee490fb7cc101a5fd1f283",
              "IPY_MODEL_40a714aa9aae44f19164fbf6d7a7f4fa"
            ]
          }
        },
        "dd322358079b4430857be82f0c8803bc": {
          "model_module": "@jupyter-widgets/base",
          "model_name": "LayoutModel",
          "state": {
            "_view_name": "LayoutView",
            "grid_template_rows": null,
            "right": null,
            "justify_content": null,
            "_view_module": "@jupyter-widgets/base",
            "overflow": null,
            "_model_module_version": "1.2.0",
            "_view_count": null,
            "flex_flow": null,
            "width": null,
            "min_width": null,
            "border": null,
            "align_items": null,
            "bottom": null,
            "_model_module": "@jupyter-widgets/base",
            "top": null,
            "grid_column": null,
            "overflow_y": null,
            "overflow_x": null,
            "grid_auto_flow": null,
            "grid_area": null,
            "grid_template_columns": null,
            "flex": null,
            "_model_name": "LayoutModel",
            "justify_items": null,
            "grid_row": null,
            "max_height": null,
            "align_content": null,
            "visibility": null,
            "align_self": null,
            "height": null,
            "min_height": null,
            "padding": null,
            "grid_auto_rows": null,
            "grid_gap": null,
            "max_width": null,
            "order": null,
            "_view_module_version": "1.2.0",
            "grid_template_areas": null,
            "object_position": null,
            "object_fit": null,
            "grid_auto_columns": null,
            "margin": null,
            "display": null,
            "left": null
          }
        },
        "0131310640ee490fb7cc101a5fd1f283": {
          "model_module": "@jupyter-widgets/controls",
          "model_name": "RadioButtonsModel",
          "state": {
            "_options_labels": [
              "intensity",
              "flux"
            ],
            "_view_name": "RadioButtonsView",
            "style": "IPY_MODEL_e6598de1f474457e9cbaa463f01323d1",
            "_dom_classes": [],
            "description": "Metric:",
            "_model_name": "RadioButtonsModel",
            "index": 1,
            "_view_module": "@jupyter-widgets/controls",
            "_model_module_version": "1.5.0",
            "_view_count": null,
            "disabled": false,
            "_view_module_version": "1.5.0",
            "description_tooltip": null,
            "_model_module": "@jupyter-widgets/controls",
            "layout": "IPY_MODEL_c09d4d67897c4001a6353b0c6fd7a0da"
          }
        },
        "40a714aa9aae44f19164fbf6d7a7f4fa": {
          "model_module": "@jupyter-widgets/output",
          "model_name": "OutputModel",
          "state": {
            "_view_name": "OutputView",
            "msg_id": "",
            "_dom_classes": [],
            "_model_name": "OutputModel",
            "outputs": [
              {
                "output_type": "display_data",
                "metadata": {
                  "tags": []
                },
                "application/vnd.jupyter.widget-view+json": {
                  "model_id": "ccdbb9fb1a1f4933a4630d637adcf24c",
                  "version_minor": 0,
                  "version_major": 2
                },
                "text/plain": "interactive(children=(Dropdown(description='Molecule:', options=('Methyl Cyanide', 'Ethyl Cyanide', 'Unknown',…"
              }
            ],
            "_view_module": "@jupyter-widgets/output",
            "_model_module_version": "1.0.0",
            "_view_count": null,
            "_view_module_version": "1.0.0",
            "layout": "IPY_MODEL_cd7662f5889449309d69f219bbf6d6d3",
            "_model_module": "@jupyter-widgets/output"
          }
        },
        "e6598de1f474457e9cbaa463f01323d1": {
          "model_module": "@jupyter-widgets/controls",
          "model_name": "DescriptionStyleModel",
          "state": {
            "_view_name": "StyleView",
            "_model_name": "DescriptionStyleModel",
            "description_width": "",
            "_view_module": "@jupyter-widgets/base",
            "_model_module_version": "1.5.0",
            "_view_count": null,
            "_view_module_version": "1.2.0",
            "_model_module": "@jupyter-widgets/controls"
          }
        },
        "c09d4d67897c4001a6353b0c6fd7a0da": {
          "model_module": "@jupyter-widgets/base",
          "model_name": "LayoutModel",
          "state": {
            "_view_name": "LayoutView",
            "grid_template_rows": null,
            "right": null,
            "justify_content": null,
            "_view_module": "@jupyter-widgets/base",
            "overflow": null,
            "_model_module_version": "1.2.0",
            "_view_count": null,
            "flex_flow": null,
            "width": null,
            "min_width": null,
            "border": null,
            "align_items": null,
            "bottom": null,
            "_model_module": "@jupyter-widgets/base",
            "top": null,
            "grid_column": null,
            "overflow_y": null,
            "overflow_x": null,
            "grid_auto_flow": null,
            "grid_area": null,
            "grid_template_columns": null,
            "flex": null,
            "_model_name": "LayoutModel",
            "justify_items": null,
            "grid_row": null,
            "max_height": null,
            "align_content": null,
            "visibility": null,
            "align_self": null,
            "height": null,
            "min_height": null,
            "padding": null,
            "grid_auto_rows": null,
            "grid_gap": null,
            "max_width": null,
            "order": null,
            "_view_module_version": "1.2.0",
            "grid_template_areas": null,
            "object_position": null,
            "object_fit": null,
            "grid_auto_columns": null,
            "margin": null,
            "display": null,
            "left": null
          }
        },
        "8d8f758ce9dc43d892fbad93c0e2a9d5": {
          "model_module": "@jupyter-widgets/controls",
          "model_name": "VBoxModel",
          "state": {
            "_view_name": "VBoxView",
            "_dom_classes": [
              "widget-interact"
            ],
            "_model_name": "VBoxModel",
            "_view_module": "@jupyter-widgets/controls",
            "_model_module_version": "1.5.0",
            "_view_count": null,
            "_view_module_version": "1.5.0",
            "box_style": "",
            "layout": "IPY_MODEL_4398bad8992b45bd95d31226059ba11c",
            "_model_module": "@jupyter-widgets/controls",
            "children": [
              "IPY_MODEL_9324e283820d4628b8781208cd8f1668",
              "IPY_MODEL_5c98a67ad2bc46b382f80da1d8e16168"
            ]
          }
        },
        "4398bad8992b45bd95d31226059ba11c": {
          "model_module": "@jupyter-widgets/base",
          "model_name": "LayoutModel",
          "state": {
            "_view_name": "LayoutView",
            "grid_template_rows": null,
            "right": null,
            "justify_content": null,
            "_view_module": "@jupyter-widgets/base",
            "overflow": null,
            "_model_module_version": "1.2.0",
            "_view_count": null,
            "flex_flow": null,
            "width": null,
            "min_width": null,
            "border": null,
            "align_items": null,
            "bottom": null,
            "_model_module": "@jupyter-widgets/base",
            "top": null,
            "grid_column": null,
            "overflow_y": null,
            "overflow_x": null,
            "grid_auto_flow": null,
            "grid_area": null,
            "grid_template_columns": null,
            "flex": null,
            "_model_name": "LayoutModel",
            "justify_items": null,
            "grid_row": null,
            "max_height": null,
            "align_content": null,
            "visibility": null,
            "align_self": null,
            "height": null,
            "min_height": null,
            "padding": null,
            "grid_auto_rows": null,
            "grid_gap": null,
            "max_width": null,
            "order": null,
            "_view_module_version": "1.2.0",
            "grid_template_areas": null,
            "object_position": null,
            "object_fit": null,
            "grid_auto_columns": null,
            "margin": null,
            "display": null,
            "left": null
          }
        },
        "9324e283820d4628b8781208cd8f1668": {
          "model_module": "@jupyter-widgets/controls",
          "model_name": "DropdownModel",
          "state": {
            "_options_labels": [
              "Methyl Cyanide",
              "Ethyl Cyanide",
              "Unknown",
              "Cyanoacetylene",
              "Cyanobutadiynylide anion",
              "Thioformaldehyde",
              "Methyl Acetylene"
            ],
            "_view_name": "DropdownView",
            "style": "IPY_MODEL_16b4dd2e487a4da78ca63d1135e7c4bb",
            "_dom_classes": [],
            "description": "Molecule:",
            "_model_name": "DropdownModel",
            "index": 0,
            "_view_module": "@jupyter-widgets/controls",
            "_model_module_version": "1.5.0",
            "_view_count": null,
            "disabled": false,
            "_view_module_version": "1.5.0",
            "description_tooltip": null,
            "_model_module": "@jupyter-widgets/controls",
            "layout": "IPY_MODEL_f43162f10df347f0812f4536426bc3c5"
          }
        },
        "5c98a67ad2bc46b382f80da1d8e16168": {
          "model_module": "@jupyter-widgets/output",
          "model_name": "OutputModel",
          "state": {
            "_view_name": "OutputView",
            "msg_id": "",
            "_dom_classes": [],
            "_model_name": "OutputModel",
            "outputs": [
              {
                "output_type": "display_data",
                "metadata": {
                  "tags": []
                },
                "text/html": "<div>\n<style scoped>\n    .dataframe tbody tr th:only-of-type {\n        vertical-align: middle;\n    }\n\n    .dataframe tbody tr th {\n        vertical-align: top;\n    }\n\n    .dataframe thead th {\n        text-align: right;\n    }\n</style>\n<table border=\"1\" class=\"dataframe\">\n  <thead>\n    <tr style=\"text-align: right;\">\n      <th></th>\n      <th>frequency</th>\n      <th>uncertainty</th>\n      <th>intensity</th>\n      <th>closest</th>\n      <th>flux</th>\n      <th>spike</th>\n      <th>sigmas</th>\n    </tr>\n  </thead>\n  <tbody>\n    <tr>\n      <th>1</th>\n      <td>239829.0356</td>\n      <td>0.0500</td>\n      <td>-2.5318</td>\n      <td>239829.20928</td>\n      <td>0.064748</td>\n      <td>True</td>\n      <td>3.990528</td>\n    </tr>\n    <tr>\n      <th>2</th>\n      <td>221912.3699</td>\n      <td>1.1539</td>\n      <td>-7.2523</td>\n      <td>221912.30928</td>\n      <td>0.000000</td>\n      <td>False</td>\n      <td>0.000000</td>\n    </tr>\n  </tbody>\n</table>\n</div>",
                "text/plain": "     frequency  uncertainty  intensity       closest      flux  spike    sigmas\n1  239829.0356       0.0500    -2.5318  239829.20928  0.064748   True  3.990528\n2  221912.3699       1.1539    -7.2523  221912.30928  0.000000  False  0.000000"
              },
              {
                "output_type": "stream",
                "metadata": {
                  "tags": []
                },
                "text": "Number of spikes: 1\n",
                "stream": "stdout"
              },
              {
                "output_type": "display_data",
                "metadata": {
                  "tags": []
                },
                "text/html": "<div>\n<style scoped>\n    .dataframe tbody tr th:only-of-type {\n        vertical-align: middle;\n    }\n\n    .dataframe tbody tr th {\n        vertical-align: top;\n    }\n\n    .dataframe thead th {\n        text-align: right;\n    }\n</style>\n<table border=\"1\" class=\"dataframe\">\n  <thead>\n    <tr style=\"text-align: right;\">\n      <th></th>\n      <th>frequency</th>\n      <th>uncertainty</th>\n      <th>intensity</th>\n      <th>closest</th>\n      <th>flux</th>\n      <th>spike</th>\n      <th>sigmas</th>\n    </tr>\n  </thead>\n  <tbody>\n    <tr>\n      <th>1</th>\n      <td>239829.0356</td>\n      <td>0.05</td>\n      <td>-2.5318</td>\n      <td>239829.20928</td>\n      <td>0.064748</td>\n      <td>True</td>\n      <td>3.990528</td>\n    </tr>\n  </tbody>\n</table>\n</div>",
                "text/plain": "     frequency  uncertainty  intensity       closest      flux  spike    sigmas\n1  239829.0356         0.05    -2.5318  239829.20928  0.064748   True  3.990528"
              }
            ],
            "_view_module": "@jupyter-widgets/output",
            "_model_module_version": "1.0.0",
            "_view_count": null,
            "_view_module_version": "1.0.0",
            "layout": "IPY_MODEL_d4e3e01fc84843a4b0ec5f0fd97752a0",
            "_model_module": "@jupyter-widgets/output"
          }
        },
        "16b4dd2e487a4da78ca63d1135e7c4bb": {
          "model_module": "@jupyter-widgets/controls",
          "model_name": "DescriptionStyleModel",
          "state": {
            "_view_name": "StyleView",
            "_model_name": "DescriptionStyleModel",
            "description_width": "",
            "_view_module": "@jupyter-widgets/base",
            "_model_module_version": "1.5.0",
            "_view_count": null,
            "_view_module_version": "1.2.0",
            "_model_module": "@jupyter-widgets/controls"
          }
        },
        "f43162f10df347f0812f4536426bc3c5": {
          "model_module": "@jupyter-widgets/base",
          "model_name": "LayoutModel",
          "state": {
            "_view_name": "LayoutView",
            "grid_template_rows": null,
            "right": null,
            "justify_content": null,
            "_view_module": "@jupyter-widgets/base",
            "overflow": null,
            "_model_module_version": "1.2.0",
            "_view_count": null,
            "flex_flow": null,
            "width": null,
            "min_width": null,
            "border": null,
            "align_items": null,
            "bottom": null,
            "_model_module": "@jupyter-widgets/base",
            "top": null,
            "grid_column": null,
            "overflow_y": null,
            "overflow_x": null,
            "grid_auto_flow": null,
            "grid_area": null,
            "grid_template_columns": null,
            "flex": null,
            "_model_name": "LayoutModel",
            "justify_items": null,
            "grid_row": null,
            "max_height": null,
            "align_content": null,
            "visibility": null,
            "align_self": null,
            "height": null,
            "min_height": null,
            "padding": null,
            "grid_auto_rows": null,
            "grid_gap": null,
            "max_width": null,
            "order": null,
            "_view_module_version": "1.2.0",
            "grid_template_areas": null,
            "object_position": null,
            "object_fit": null,
            "grid_auto_columns": null,
            "margin": null,
            "display": null,
            "left": null
          }
        },
        "ccdbb9fb1a1f4933a4630d637adcf24c": {
          "model_module": "@jupyter-widgets/controls",
          "model_name": "VBoxModel",
          "state": {
            "_view_name": "VBoxView",
            "_dom_classes": [
              "widget-interact"
            ],
            "_model_name": "VBoxModel",
            "_view_module": "@jupyter-widgets/controls",
            "_model_module_version": "1.5.0",
            "_view_count": null,
            "_view_module_version": "1.5.0",
            "box_style": "",
            "layout": "IPY_MODEL_e78be2f6582e487da9b3752c9675e0db",
            "_model_module": "@jupyter-widgets/controls",
            "children": [
              "IPY_MODEL_26a90f63554d4cb5a438f076097f7b4c",
              "IPY_MODEL_44640a5499004d53be323703f62b41be"
            ]
          }
        },
        "e78be2f6582e487da9b3752c9675e0db": {
          "model_module": "@jupyter-widgets/base",
          "model_name": "LayoutModel",
          "state": {
            "_view_name": "LayoutView",
            "grid_template_rows": null,
            "right": null,
            "justify_content": null,
            "_view_module": "@jupyter-widgets/base",
            "overflow": null,
            "_model_module_version": "1.2.0",
            "_view_count": null,
            "flex_flow": null,
            "width": null,
            "min_width": null,
            "border": null,
            "align_items": null,
            "bottom": null,
            "_model_module": "@jupyter-widgets/base",
            "top": null,
            "grid_column": null,
            "overflow_y": null,
            "overflow_x": null,
            "grid_auto_flow": null,
            "grid_area": null,
            "grid_template_columns": null,
            "flex": null,
            "_model_name": "LayoutModel",
            "justify_items": null,
            "grid_row": null,
            "max_height": null,
            "align_content": null,
            "visibility": null,
            "align_self": null,
            "height": null,
            "min_height": null,
            "padding": null,
            "grid_auto_rows": null,
            "grid_gap": null,
            "max_width": null,
            "order": null,
            "_view_module_version": "1.2.0",
            "grid_template_areas": null,
            "object_position": null,
            "object_fit": null,
            "grid_auto_columns": null,
            "margin": null,
            "display": null,
            "left": null
          }
        },
        "26a90f63554d4cb5a438f076097f7b4c": {
          "model_module": "@jupyter-widgets/controls",
          "model_name": "DropdownModel",
          "state": {
            "_options_labels": [
              "Methyl Cyanide",
              "Ethyl Cyanide",
              "Unknown",
              "Cyanoacetylene",
              "Cyanobutadiynylide anion",
              "Scandium monosulfide",
              "Thioformaldehyde",
              "Methyl Acetylene",
              "1,3-Butadiynyl radical",
              "Propadienonethione"
            ],
            "_view_name": "DropdownView",
            "style": "IPY_MODEL_5fdb1047ef6e4193b6962a8cf5a17bb1",
            "_dom_classes": [],
            "description": "Molecule:",
            "_model_name": "DropdownModel",
            "index": 8,
            "_view_module": "@jupyter-widgets/controls",
            "_model_module_version": "1.5.0",
            "_view_count": null,
            "disabled": false,
            "_view_module_version": "1.5.0",
            "description_tooltip": null,
            "_model_module": "@jupyter-widgets/controls",
            "layout": "IPY_MODEL_a90870987b094740b78e19e3fbe0201c"
          }
        },
        "44640a5499004d53be323703f62b41be": {
          "model_module": "@jupyter-widgets/output",
          "model_name": "OutputModel",
          "state": {
            "_view_name": "OutputView",
            "msg_id": "",
            "_dom_classes": [],
            "_model_name": "OutputModel",
            "outputs": [
              {
                "output_type": "display_data",
                "metadata": {
                  "tags": []
                },
                "text/html": "<div>\n<style scoped>\n    .dataframe tbody tr th:only-of-type {\n        vertical-align: middle;\n    }\n\n    .dataframe tbody tr th {\n        vertical-align: top;\n    }\n\n    .dataframe thead th {\n        text-align: right;\n    }\n</style>\n<table border=\"1\" class=\"dataframe\">\n  <thead>\n    <tr style=\"text-align: right;\">\n      <th></th>\n      <th>frequency</th>\n      <th>uncertainty</th>\n      <th>intensity</th>\n      <th>closest</th>\n      <th>flux</th>\n      <th>spike</th>\n      <th>sigmas</th>\n    </tr>\n  </thead>\n  <tbody>\n    <tr>\n      <th>1</th>\n      <td>239829.0356</td>\n      <td>0.0500</td>\n      <td>-2.5318</td>\n      <td>239829.20928</td>\n      <td>0.064748</td>\n      <td>True</td>\n      <td>3.990528</td>\n    </tr>\n    <tr>\n      <th>2</th>\n      <td>221912.3699</td>\n      <td>1.1539</td>\n      <td>-7.2523</td>\n      <td>221912.30928</td>\n      <td>0.000000</td>\n      <td>False</td>\n      <td>0.000000</td>\n    </tr>\n  </tbody>\n</table>\n</div>",
                "text/plain": "     frequency  uncertainty  intensity       closest      flux  spike    sigmas\n1  239829.0356       0.0500    -2.5318  239829.20928  0.064748   True  3.990528\n2  221912.3699       1.1539    -7.2523  221912.30928  0.000000  False  0.000000"
              },
              {
                "output_type": "stream",
                "metadata": {
                  "tags": []
                },
                "text": "Number of spikes: 1\n",
                "stream": "stdout"
              },
              {
                "output_type": "display_data",
                "metadata": {
                  "tags": []
                },
                "text/html": "<div>\n<style scoped>\n    .dataframe tbody tr th:only-of-type {\n        vertical-align: middle;\n    }\n\n    .dataframe tbody tr th {\n        vertical-align: top;\n    }\n\n    .dataframe thead th {\n        text-align: right;\n    }\n</style>\n<table border=\"1\" class=\"dataframe\">\n  <thead>\n    <tr style=\"text-align: right;\">\n      <th></th>\n      <th>frequency</th>\n      <th>uncertainty</th>\n      <th>intensity</th>\n      <th>closest</th>\n      <th>flux</th>\n      <th>spike</th>\n      <th>sigmas</th>\n    </tr>\n  </thead>\n  <tbody>\n    <tr>\n      <th>1</th>\n      <td>239829.0356</td>\n      <td>0.05</td>\n      <td>-2.5318</td>\n      <td>239829.20928</td>\n      <td>0.064748</td>\n      <td>True</td>\n      <td>3.990528</td>\n    </tr>\n  </tbody>\n</table>\n</div>",
                "text/plain": "     frequency  uncertainty  intensity       closest      flux  spike    sigmas\n1  239829.0356         0.05    -2.5318  239829.20928  0.064748   True  3.990528"
              }
            ],
            "_view_module": "@jupyter-widgets/output",
            "_model_module_version": "1.0.0",
            "_view_count": null,
            "_view_module_version": "1.0.0",
            "layout": "IPY_MODEL_519fac94ebfa4fe5a85d2e01a7d1ff04",
            "_model_module": "@jupyter-widgets/output"
          }
        },
        "5fdb1047ef6e4193b6962a8cf5a17bb1": {
          "model_module": "@jupyter-widgets/controls",
          "model_name": "DescriptionStyleModel",
          "state": {
            "_view_name": "StyleView",
            "_model_name": "DescriptionStyleModel",
            "description_width": "",
            "_view_module": "@jupyter-widgets/base",
            "_model_module_version": "1.5.0",
            "_view_count": null,
            "_view_module_version": "1.2.0",
            "_model_module": "@jupyter-widgets/controls"
          }
        },
        "a90870987b094740b78e19e3fbe0201c": {
          "model_module": "@jupyter-widgets/base",
          "model_name": "LayoutModel",
          "state": {
            "_view_name": "LayoutView",
            "grid_template_rows": null,
            "right": null,
            "justify_content": null,
            "_view_module": "@jupyter-widgets/base",
            "overflow": null,
            "_model_module_version": "1.2.0",
            "_view_count": null,
            "flex_flow": null,
            "width": null,
            "min_width": null,
            "border": null,
            "align_items": null,
            "bottom": null,
            "_model_module": "@jupyter-widgets/base",
            "top": null,
            "grid_column": null,
            "overflow_y": null,
            "overflow_x": null,
            "grid_auto_flow": null,
            "grid_area": null,
            "grid_template_columns": null,
            "flex": null,
            "_model_name": "LayoutModel",
            "justify_items": null,
            "grid_row": null,
            "max_height": null,
            "align_content": null,
            "visibility": null,
            "align_self": null,
            "height": null,
            "min_height": null,
            "padding": null,
            "grid_auto_rows": null,
            "grid_gap": null,
            "max_width": null,
            "order": null,
            "_view_module_version": "1.2.0",
            "grid_template_areas": null,
            "object_position": null,
            "object_fit": null,
            "grid_auto_columns": null,
            "margin": null,
            "display": null,
            "left": null
          }
        }
      }
    }
  },
  "cells": [
    {
      "cell_type": "markdown",
      "metadata": {
        "id": "fJMbZB8eebD1",
        "colab_type": "text"
      },
      "source": [
        "# Libraries"
      ]
    },
    {
      "cell_type": "code",
      "metadata": {
        "ExecuteTime": {
          "end_time": "2020-03-27T19:16:13.047622Z",
          "start_time": "2020-03-27T19:16:06.193546Z"
        },
        "scrolled": true,
        "id": "9V89WxkfebD7",
        "colab_type": "code",
        "outputId": "8cdb9130-63ca-4620-b07d-03d4e08b0c71",
        "colab": {
          "base_uri": "https://localhost:8080/",
          "height": 34
        }
      },
      "source": [
        "import numpy as np\n",
        "import matplotlib.pyplot as plt\n",
        "import os.path\n",
        "import pandas as pd\n",
        "import pickle\n",
        "from collections import Counter\n",
        "import requests\n",
        "from bs4 import BeautifulSoup\n",
        "%matplotlib inline"
      ],
      "execution_count": 0,
      "outputs": [
        {
          "output_type": "stream",
          "text": [
            "mkdir: cannot create directory ‘Data’: File exists\n"
          ],
          "name": "stdout"
        }
      ]
    },
    {
      "cell_type": "code",
      "metadata": {
        "id": "mtdOROEdVbDb",
        "colab_type": "code",
        "colab": {}
      },
      "source": [
        "try:\n",
        "  from astroquery.splatalogue import Splatalogue  # We must acknowledge authors for use of this library\n",
        "  from astropy import units as u\n",
        "except:\n",
        "  !pip install astropy\n",
        "  !pip install --pre astroquery\n",
        "  from astroquery.splatalogue import Splatalogue  # We must acknowledge authors for use of this library\n",
        "  from astropy import units as u"
      ],
      "execution_count": 0,
      "outputs": []
    },
    {
      "cell_type": "code",
      "metadata": {
        "id": "lLsTFR2pVQ-9",
        "colab_type": "code",
        "colab": {}
      },
      "source": [
        "from astroquery.splatalogue import Splatalogue  # We must acknowledge authors for use of this library\n",
        "from astropy import units as u\n",
        "import ipywidgets as widgets\n",
        "from IPython.display import display"
      ],
      "execution_count": 0,
      "outputs": []
    },
    {
      "cell_type": "markdown",
      "metadata": {
        "id": "SyTRE9GGXALZ",
        "colab_type": "text"
      },
      "source": [
        "# SpectralQuery"
      ]
    },
    {
      "cell_type": "code",
      "metadata": {
        "id": "lekcUj1cV7ZK",
        "colab_type": "code",
        "colab": {}
      },
      "source": [
        "class SpectralQuery:\n",
        "  \"\"\"SpectralQuery is designed to query the Cologne Database for Molecular Spectroscopy (CDMS)\n",
        "  and Jet Propulsion Laboratory (JPL) for spectral line emission data.\"\"\"\n",
        "  # Initialize the class instance\n",
        "  def __init__(self, database):\n",
        "\n",
        "      # Request the database\n",
        "      if database == \"CDMS\":\n",
        "          self.DB_URL = \"https://cdms.astro.uni-koeln.de/classic/entries/\"\n",
        "          self.DB_LINES_URL = \"https://cdms.astro.uni-koeln.de\"\n",
        "      elif database == \"JPL\":\n",
        "          self.DB_URL  = \"https://spec.jpl.nasa.gov/ftp/pub/catalog/catdir.html\"\n",
        "          self.DB_LINES_URL = \"https://spec.jpl.nasa.gov/ftp/pub/catalog/c\"\n",
        "      self.database = database\n",
        "      self.page = requests.get(self.DB_URL)\n",
        "      self.soup = BeautifulSoup(self.page.content, 'html.parser')\n",
        "\n",
        "  # Method to retrieve spectral line data\n",
        "  def getSpectralLines(self, molecule_tag):\n",
        "      if self.database == \"CDMS\":\n",
        "          self.link = self.soup.find(\"table\").find(lambda tag:tag.name==\"td\" and molecule_tag in tag.text).find(lambda tag:tag.name == \"a\" and \"HTML\" in tag.text)['href']\n",
        "          self.lines_page = requests.get(self.DB_LINES_URL + self.link)\n",
        "          self.lines_soup = BeautifulSoup(self.lines_page.content, 'html.parser')\n",
        "          self.link2 = self.lines_soup.find(\"a\")['href']\n",
        "          self.lines_page2 = requests.get(self.DB_LINES_URL + self.link2)\n",
        "          self.lines_soup2 = BeautifulSoup(self.lines_page2.content, 'html.parser')\n",
        "          self.lines = str(self.lines_soup2.find(\"pre\"))\n",
        "      elif self.database == \"JPL\":\n",
        "          self.lines = str(BeautifulSoup(requests.get(self.DB_LINES_URL + molecule_tag + \".cat\").content, 'html.parser'))\n",
        "\n",
        "      # Clean up the line data\n",
        "      # Step 1: Remove the <pre> and </pre> and any line breaks before/after them\n",
        "      if \"<pre>\\n \" in self.lines: self.lines = self.lines.replace(\"<pre>\\n \", \"\")\n",
        "      if \"<pre>\\n\" in self.lines: self.lines = self.lines.replace(\"<pre>\\n\", \"\")\n",
        "      if \"\\n\\n</pre>\" in self.lines: self.lines = self.lines.replace(\"\\n\\n</pre>\", \"\")\n",
        "      if \"\\n</pre>\" in self.lines: self.lines = self.lines.replace(\"\\n</pre>\", \"\")\n",
        "      if \"</pre>\" in self.lines: self.lines = self.lines.replace(\"</pre>\", \"\")\n",
        "      # Step 2: Split the lines at every line break\n",
        "      self.lines = pd.Series(self.lines.split(\"\\n\"))\n",
        "      self.lines = self.lines[:-1]  # Drop the last entry\n",
        "      # Step 3: Separate entries that bleed toghether\n",
        "      self.lines = self.lines.str.replace(r\"([.]\\d{4})\", r\"\\1 \")\n",
        "      # Step 4: Remove extra white space between entries\n",
        "      self.lines = self.lines.str.replace(\"\\s\\s*\", \" \")\n",
        "      # Step 4: Split at each column\n",
        "      self.lines = self.lines.str.split()\n",
        "      # Step 5: Create a DataFrame from the first 3 columns\n",
        "      self.lines = pd.DataFrame(self.lines)\n",
        "      self.lines = pd.DataFrame(self.lines[0].values.tolist())\n",
        "      self.lines = pd.DataFrame(self.lines[[0, 1, 2]])\n",
        "      self.lines.columns = [\"frequency\", \"uncertainty\", \"intensity\"]"
      ],
      "execution_count": 0,
      "outputs": []
    },
    {
      "cell_type": "markdown",
      "metadata": {
        "id": "iggBCIw4W43f",
        "colab_type": "text"
      },
      "source": [
        "# Read in the Data\n",
        "\n",
        "The data should be located in a subfolder within the \"Data\" folder.  That is, the proper path directory would look like:\n",
        "\n",
        "\"./Data/Project/\"\n",
        "\n",
        "And all data files are inside \"Project\"\n",
        "\n",
        "The frequency of the data should be in GHz.  If it is not, there is a line of code that needs to be un-commented below."
      ]
    },
    {
      "cell_type": "code",
      "metadata": {
        "ExecuteTime": {
          "end_time": "2020-03-27T19:16:15.984795Z",
          "start_time": "2020-03-27T19:16:13.055596Z"
        },
        "code_folding": [],
        "id": "86DvnR7mebER",
        "colab_type": "code",
        "outputId": "b03ef0c1-c031-4e1b-e43a-4b1a33641f40",
        "colab": {
          "base_uri": "https://localhost:8080/",
          "height": 153
        }
      },
      "source": [
        "# Create the directorys necessary to access the data\n",
        "path = \"./Data/Titan\"\n",
        "\n",
        "# read in the data\n",
        "print(\"\\n--- Reading in data ---\")\n",
        "\n",
        "filenames = os.listdir(path)\n",
        "# 'data' will be a 4 element list, with each element representing the data from 1 text file\n",
        "data = [np.loadtxt(path + \"/\" + f) \n",
        "        for f in filenames if f not in [\"all_molecules.csv\", \"spectral_lines.pkl\", \"spectral_complete.pkl\"]]\n",
        "\n",
        "# Make sure the data is in ascending order by frequency\n",
        "for i, dataset in enumerate(data):\n",
        "    # Make sure the data is sorted by frequency\n",
        "    dataset = pd.DataFrame(dataset, columns = [\"frequency\", \"flux\"]).sort_values(by = \"frequency\").to_numpy()\n",
        "    # -----------------------------------------------------------------------------------------------------------------------------\n",
        "    # If the data is in MHz, convert to GHz.  Otherwise, comment this line out with \"#\"\n",
        "    data[i][:, 0] = dataset[:, 0] / 1000\n",
        "    # -----------------------------------------------------------------------------------------------------------------------------\n",
        "\n",
        "full_data = np.concatenate(data)  # One giant numpy array containing all the data\n",
        "full_data[:,0] = np.round(full_data[:,0] * 1000, 5)  # Frequences in MHz rounded to 5 decimal places\n",
        "# Create empty lists for the min and max frequency of the data\n",
        "min_freqs = []\n",
        "max_freqs = []    \n",
        "# Determine the min and max frequency (in MHz) in each dataset    \n",
        "for dataset in data:\n",
        "    # Each dataset provided has a different min and max frequency.  We need to find them all.\n",
        "    min_freqs.append(dataset[0][0] * 1000)\n",
        "    max_freqs.append(dataset[-1][0] * 1000)\n",
        "generate_plot = False\n",
        "print(\"--- Complete ---\\n\")\n",
        "\n",
        "# Read in all_molecules if it exists\n",
        "if os.path.isfile(path + '/all_molecules.csv'):\n",
        "    print(\"\\n--- Loading in all_molecules ---\")\n",
        "    all_molecules = pd.read_csv(path + '/all_molecules.csv', header = 0, index_col = 0).to_dict(orient = \"index\")\n",
        "    generate_plot = False   # Whether or not to generate the plot\n",
        "    all_molecules_loaded = True    # Whether or not this dictionary was loaded in from a csv\n",
        "    print(\"--- Complete ---\\n\")\n",
        "else:\n",
        "    all_molecules_loaded = False\n",
        "\n",
        "# read in spectral_lines if it exists   \n",
        "if os.path.isfile(path + '/spectral_lines.pkl'):\n",
        "    print(\"\\n--- Loading in spectral_lines ---\")\n",
        "    with open(path + '/spectral_lines.pkl', 'rb') as file:\n",
        "        spectral_lines = pickle.load(file)\n",
        "    spectral_lines = {key: pd.DataFrame.from_dict(value, dtype = np.float64) for key, value in spectral_lines.items()}\n",
        "    print(\"--- Complete ---\\n\")\n",
        "\n",
        "# read in spectral_complete if it exists   \n",
        "if os.path.isfile(path + '/spectral_complete.pkl'):\n",
        "    print(\"\\n--- Loading in spectral_complete ---\")\n",
        "    with open(path + '/spectral_complete.pkl', 'rb') as file:\n",
        "        spectral_complete = pickle.load(file)\n",
        "    spectral_complete = {key: pd.DataFrame.from_dict(value).astype({\"frequency\": np.float64, \n",
        "                                                                    \"uncertainty\": np.float64,\n",
        "                                                                    \"intensity\": np.float64,\n",
        "                                                                    \"closest\": np.float64,\n",
        "                                                                    \"flux\": np.float64,\n",
        "                                                                    \"spike\": bool}) for key, value in spectral_complete.items()}\n",
        "    print(\"--- Complete ---\\n\")"
      ],
      "execution_count": 0,
      "outputs": [
        {
          "output_type": "stream",
          "text": [
            "\n",
            "--- Reading in data ---\n",
            "--- Complete ---\n",
            "\n",
            "\n",
            "--- Loading in all_molecules ---\n",
            "--- Complete ---\n",
            "\n"
          ],
          "name": "stdout"
        }
      ]
    },
    {
      "cell_type": "markdown",
      "metadata": {
        "id": "c2LkI3edebEa",
        "colab_type": "text"
      },
      "source": [
        "## Functions"
      ]
    },
    {
      "cell_type": "markdown",
      "metadata": {
        "id": "jLTtg4a-ebEb",
        "colab_type": "text"
      },
      "source": [
        "### create_plot()\n",
        "This function will generate a figure with 4 axes and produce a plot of the frequency versus flux of the raw data.  It will then return the figure and handle to those axes."
      ]
    },
    {
      "cell_type": "code",
      "metadata": {
        "ExecuteTime": {
          "end_time": "2020-03-27T19:16:16.014718Z",
          "start_time": "2020-03-27T19:16:15.991717Z"
        },
        "code_folding": [],
        "id": "SIP1zilEebEd",
        "colab_type": "code",
        "colab": {}
      },
      "source": [
        "def create_plot(plot_data):\n",
        "    \"\"\" Recreate the plot from Cordiner et. al. 2015, Figure 1 \"\"\"\n",
        "    # Defining the figure might need more finess if there are more than 4 datasets\n",
        "    # We need to consult a domain expert to learn if ALMA data always comes back with 4 datasets\n",
        "    fig, axs = plt.subplots(2, 2, figsize = (15, 9))\n",
        "    for index, ax in enumerate(axs.flat):\n",
        "        # Plot each data set\n",
        "        ax.plot(plot_data[index][:,0],\n",
        "                plot_data[index][:,1],\n",
        "                linewidth = 0.25)\n",
        "        ax.set(ylabel = \"Flux (Jy)\")\n",
        "        ax.set(xlabel = \"Frequency (GHz)\")\n",
        "        # Clean up the xticks\n",
        "        ax.set_xticks(np.arange(round(plot_data[index][0,0], 1), round(plot_data[index][-1,0], 1), step = 0.5))\n",
        "        # Remove the space from the borders of the plot along the X axis\n",
        "        ax.autoscale(enable = True, axis = 'x', tight = True)\n",
        "    # Add some space between the plots\n",
        "    plt.subplots_adjust(hspace = .2, wspace = .3)\n",
        "    return fig, axs"
      ],
      "execution_count": 0,
      "outputs": []
    },
    {
      "cell_type": "markdown",
      "metadata": {
        "id": "O2l5azzIebEs",
        "colab_type": "text"
      },
      "source": [
        "### add_lines(id, molecules)\n",
        "This function adds dashed lines to a specified axis (`id`) at every frequency passed in by `molecules`.  `molecules` is a dictionary whose keys are the _frequencies_ above the 3$\\sigma$ threshold and whose values are the _Chemical names_ of molecules that have a spectral line at that frequency, and also their _Molecule Tag_.  So each frequency will have a dictionary inside it with keys _Chemical Name_ and _Molecule Tag_ with values pulled from the results of a Splatalogue query."
      ]
    },
    {
      "cell_type": "code",
      "metadata": {
        "ExecuteTime": {
          "end_time": "2020-03-27T19:16:16.130716Z",
          "start_time": "2020-03-27T19:16:16.021717Z"
        },
        "code_folding": [],
        "id": "L6NJiIUQebEu",
        "colab_type": "code",
        "colab": {}
      },
      "source": [
        "def add_lines(id, molecules):\n",
        "    \"\"\"This function will add dashed lines to the plot where molecules were detected\"\"\"\n",
        "    for freq in molecules.keys():\n",
        "        axs[id].axvline(x = float(freq),\n",
        "                        ymin = 0,\n",
        "                        ymax = 1,\n",
        "                        dashes = [18, 6],\n",
        "                        linewidth = 0.25,\n",
        "                        color = \"gray\",\n",
        "                        alpha = 0.5)"
      ],
      "execution_count": 0,
      "outputs": []
    },
    {
      "cell_type": "markdown",
      "metadata": {
        "id": "nPFcvlwCebE7",
        "colab_type": "text"
      },
      "source": [
        "### find_molecules(all_molecules)\n",
        "This function constructs 2 dictionaries.  The first dictionary created is `molecules.`  `molecules` is a dictionary whose keys are the _frequencies_ above the 3$\\sigma$ threshold and whose values are the _Chemical names_ of molecules that have a spectral line at that frequency, and also their _Molecule Tag_.  So each frequency will have a dictionary inside it with keys _Chemical Name_ and _Molecule Tag_ with values pulled from the results of a Splatalogue query.  `molecules` is unique to each axis on the figure.  That is, since there are 4 axes on the figure, `molecules` gets generated 4 times.  Each time those frequencies get passed to `add_lines(id, molecules)` along with the `id` of the axis that it is meant for.\n",
        "\n",
        "The second dictionary is a global dictionary, `all_molecules`.  This dictionary's keys are the unique _Chemical Names_ identified from all 4 generations of the `molecules` dictionary.  The values are another dictionary with keys _Occurances_, _Molecule Tag_, and _Linelist_ whose values are the frequencies of spectral emissions this molecule was found at in the data, the molecule tag number, and the linelist representing what database the data was pulled from, respectively.\n",
        "\n",
        "The `molecules` dictionary is generated by first identifying all frequencies where the flux exceeds the 3$\\sigma$ threshold (where a flux value is greater than 3 standard deviations away from the mean).  Then, for each frequency that meets this criteria, a query to the Splatalogue API is made at that frequency $\\pm$ the telescope's channel spacing over 2 (488kHz / 2 = 244KHz).  If the query returns any results, they are added to the `molecules` and `all_molecules` dictionarys."
      ]
    },
    {
      "cell_type": "code",
      "metadata": {
        "ExecuteTime": {
          "end_time": "2020-03-27T19:16:16.254715Z",
          "start_time": "2020-03-27T19:16:16.135717Z"
        },
        "code_folding": [],
        "id": "zrJjeCxIebE9",
        "colab_type": "code",
        "colab": {}
      },
      "source": [
        "def find_molecules(all_molecules):\n",
        "    \"\"\" Classify the molecules from their frequency for each dataset \"\"\"\n",
        "    for j, dataset in enumerate(data):\n",
        "        # Determine the standard deviation of the data with signals removed\n",
        "        # --- WE COULD INCORPORATE THE WORKS OF https://iopscience.iop.org/article/10.1086/679285/pdf HERE!!! ---\n",
        "        moch_data = dataset.copy()\n",
        "        moch_data[np.where( moch_data[:, 1] >= 5 * np.std(moch_data[:, 1])), 1] = 0  # 0's fluxs >= 5 stddevs\n",
        "        # Locate the indices where the flux is greater than 3 standard deviations\n",
        "        # There are 4 datasets.  Column 0 is the frequency, column 1 is the flux\n",
        "        # Splatalogue appears to be accurate up to 5 decimal places\n",
        "        molecules = {}  # An empty dictionary to store the results of each detected molecule and rest frequency\n",
        "        channel_spacing = dataset[1][0] - dataset[0][0] # +/- when searching frequencies\n",
        "        frequencies = np.round(dataset[np.where( dataset[:, 1] >= 3 * np.std(moch_data[:, 1])), 0], 5)[0]\n",
        "        for freq in frequencies:\n",
        "            # Query Splatalogue at each frequency +/- delta using the CDMS and JPL databases\n",
        "            results = Splatalogue.query_lines( (freq - channel_spacing / 2)*u.GHz, \n",
        "                                               (freq + channel_spacing / 2)*u.GHz,\n",
        "                                                show_molecule_tag = True,\n",
        "                                                top20 = 'planet',\n",
        "                                                line_lists = ['CDMS', 'JPL'],\n",
        "                                                line_strengths = 'ls1')\n",
        "            # Append the chemical names corresponding to the searched frequency.\n",
        "            if len(results) > 0:\n",
        "                molecules[freq] = {\"Chemical Name\": results[\"Chemical Name\"].tolist(),\n",
        "                                   \"Molecule Tag\": results[\"Molecule<br>Tag\"].tolist()}\n",
        "            else:\n",
        "                molecules[freq] = {\"Chemical Name\": \"Unknown\",\n",
        "                                   \"Molecule Tag\": None}\n",
        "        \n",
        "            # Append the chemical name and frequency to the dictionary of all molecules found\n",
        "            if len(results) > 0:\n",
        "                for i, molecule in enumerate(results[\"Chemical Name\"].tolist()):\n",
        "                    if molecule in all_molecules.keys():\n",
        "                        # This check removes the possibility of duplicate frequencies\n",
        "                        if freq not in all_molecules[molecule][\"Occurances\"]:\n",
        "                            all_molecules[molecule][\"Occurances\"].append(freq)\n",
        "                    else:\n",
        "                        # Add leading 0's to the Molecule Tag if it's less than 6 characters\n",
        "                        molecule_tag = \"0\" + str(results[\"Molecule<br>Tag\"][i]) if len(str(results[\"Molecule<br>Tag\"][i])) < 6 else str(results[\"Molecule<br>Tag\"][i])\n",
        "                        # You might find a '-' for the first character.  If so, change it to a 0\n",
        "                        if \"-\" in molecule_tag: molecule_tag = \"0\" + molecule_tag[1:]\n",
        "                        # The molecule is new.  Add its tag, linelist, and frequency to all_molecules\n",
        "                        all_molecules[molecule] = {\"Molecule Tag\": molecule_tag,\n",
        "                                                   \"Linelist\": results[\"Linelist\"][i],\n",
        "                                                   \"Occurances\": [freq]}\n",
        "            else:\n",
        "                # If the query returns no results, then we've found a significant emmission frequency with\n",
        "                # no known molecule associated with it.\n",
        "                if \"Unknown\" in all_molecules.keys():\n",
        "                    all_molecules[\"Unknown\"][\"Occurances\"].append(freq)\n",
        "                else:\n",
        "                    all_molecules[\"Unknown\"] = {\"Molecule Tag\": \"None\",\n",
        "                                                \"Linelist\": \"None\",\n",
        "                                                \"Occurances\": [freq]}\n",
        "        #add_lines(j, molecules)\n",
        "    return all_molecules"
      ],
      "execution_count": 0,
      "outputs": []
    },
    {
      "cell_type": "markdown",
      "metadata": {
        "id": "ERYv9AisebFH",
        "colab_type": "text"
      },
      "source": [
        "### pull_spectral_lines(spectral_lines)\n",
        "\n",
        "Once all the molecules that could be in the data have been identified, we can then query other databases (**CDMS** and **JPL**) to retrieve the complete set of every spectral line emmission frequency for each identified molecule.  To do this, we need to know what `molecule_tag` to search for along with the database (_linelist_) it came from.\n",
        "\n",
        "The `SpectralQuery` library will do exactly this.  By supplying the _linelist_ to a `SpectralQuery` class object, and the `molecule_tag`, it will scrape the spectral emmisssion data from the appropriate web page and store it in a pandas data frame.  Since we don't know exactly how many queries we'll need to make, and since the number of rows each query returns is also unknown, the results are best saved in a dictionary for further usage.  The global dictionary `spectral_lines` will be constructed with this function.  Its keys will be the _Chemical Names_ from `all_molecules`, and its values will be the results returned from `SpectralQuery.getSpectralLines()`."
      ]
    },
    {
      "cell_type": "code",
      "metadata": {
        "ExecuteTime": {
          "end_time": "2020-03-27T19:16:16.375716Z",
          "start_time": "2020-03-27T19:16:16.258719Z"
        },
        "code_folding": [],
        "id": "aHI1CC3kebFJ",
        "colab_type": "code",
        "colab": {}
      },
      "source": [
        "def pull_spectral_lines(spectral_lines):\n",
        "    \"\"\"Scrapes the given database for the spectral lines emmitted by the molecule with the specified molecule_tag\"\"\"\n",
        "    print(\"Retrieving spectral line frequencies for molecules of interest...\")\n",
        "    # Scrape the CDMS Database content\n",
        "    print(\"Parsing the Cologne Database for Molecular Spectroscopy...\")\n",
        "    cdms = SpectralQuery(\"CDMS\")\n",
        "    print(\"Done\\n\")\n",
        "    # Scrape the JPL Database content\n",
        "    print(\"Parsing the Jet Propulsion Laboratory Molecular Spectroscopy Database...\")\n",
        "    jpl  = SpectralQuery(\"JPL\")\n",
        "    print(\"Done\\n\")\n",
        "    \n",
        "    # Placeholder for bad molecules\n",
        "    bad_molecules = []\n",
        "    \n",
        "    # Iterate through each molecule in all_molecules\n",
        "    for i, molecule in enumerate(all_molecules.keys()):\n",
        "        if round(i / len(all_molecules.keys()) * 100, 0) % 10 == 0:\n",
        "            print(\"{}% complete...\".format(round(i / len(all_molecules.keys()) * 100, 0)))\n",
        "        # Viable Linelist options are \"CDMS, JPL, or None.\"  If \"None\" (for \"Unknown\"), just pass\n",
        "        if all_molecules[molecule][\"Linelist\"] == \"CDMS\":\n",
        "            cdms.getSpectralLines(all_molecules[molecule][\"Molecule Tag\"])\n",
        "            spectral_lines[molecule] = cdms.lines\n",
        "        elif all_molecules[molecule][\"Linelist\"] == \"JPL\":\n",
        "            results = jpl.getSpectralLines(all_molecules[molecule][\"Molecule Tag\"])\n",
        "            spectral_lines[molecule] = jpl.lines\n",
        "        else:\n",
        "            continue\n",
        "        # In some cases, the data might not download properly.  In these events, delete that molecule\n",
        "        try:\n",
        "            pd.DataFrame.from_dict(spectral_lines[molecule], dtype = np.float64)\n",
        "        except:\n",
        "            print(str(molecule), \"contains invalid data.\")\n",
        "            bad_molecules.append(molecule)\n",
        "            del spectral_lines[molecule]\n",
        "    \n",
        "    # Remove all the bad molecules from all_molecules and rewrite the csv\n",
        "    if len(bad_molecules) > 0:\n",
        "        print(\"Rewriting all_molecules.csv\")\n",
        "        for molecule in bad_molecules:\n",
        "            del all_molecules[molecule]\n",
        "        # Save all_molecules.csv excluding the busted keys.\n",
        "        pd.DataFrame.from_dict(all_molecules,\n",
        "                       columns = [\"Molecule Tag\",\n",
        "                                  \"Linelist\",\n",
        "                                  \"Occurances\"],\n",
        "                       orient = \"index\").to_csv(path + \"/all_molecules.csv\")\n",
        "        print(\"Rewrite complete.\")\n",
        "    spectral_lines = {key: pd.DataFrame.from_dict(value, dtype = np.float64) for key, value in spectral_lines.items()}\n",
        "    return spectral_lines\n",
        "    print(\"100% complete...Done\\n\")"
      ],
      "execution_count": 0,
      "outputs": []
    },
    {
      "cell_type": "markdown",
      "metadata": {
        "id": "2toUTnHtebFW",
        "colab_type": "text"
      },
      "source": [
        "## Generate Queries\n",
        "\n",
        "Run the functions necessary to generate all the data required."
      ]
    },
    {
      "cell_type": "code",
      "metadata": {
        "ExecuteTime": {
          "end_time": "2020-03-27T19:16:16.506717Z",
          "start_time": "2020-03-27T19:16:16.379717Z"
        },
        "code_folding": [],
        "scrolled": false,
        "id": "KqTWiNv1ebFX",
        "colab_type": "code",
        "outputId": "fef4e6b8-0171-464e-bd23-194c1f3bf329",
        "colab": {
          "base_uri": "https://localhost:8080/",
          "height": 340
        }
      },
      "source": [
        "# Generte the plot if necessary\n",
        "if generate_plot:\n",
        "    fig, axs = create_plot(data)\n",
        "    axs = axs.flat\n",
        "\n",
        "# If all_molecules wasn't loaded in, generate and save it by running the find_molecules function\n",
        "if \"all_molecules\" not in locals():\n",
        "    all_molecules = {}  # This will store the molecule name and every frequency it is found at\n",
        "    all_molecules = find_molecules(all_molecules)\n",
        "    \n",
        "    # Save the all_molecules dictionary\n",
        "    pd.DataFrame.from_dict(all_molecules,\n",
        "                           columns = [\"Molecule Tag\",\n",
        "                                      \"Linelist\",\n",
        "                                      \"Occurances\"],\n",
        "                           orient = \"index\").to_csv(path + \"/all_molecules.csv\")\n",
        "    \n",
        "# If spectral_lines wasn't loaded in, generate and save it by running the pull_spectral_lines function\n",
        "if \"spectral_lines\" not in locals():\n",
        "    # Define the dictionary 'spectral_lines'\n",
        "    spectral_lines = {}\n",
        "    # Iterate through each molecule in all_molecules to pull all their emmission frequencies\n",
        "    spectral_lines = pull_spectral_lines(spectral_lines)\n",
        "    # Discard entries that are outside the bounds of our data [min_freq, max_freq]\n",
        "    all_spectral_lines = spectral_lines.copy()\n",
        "    # Save the spectral_lines dictionary\n",
        "    with open(path + '/spectral_lines.pkl', 'wb') as file:\n",
        "        pickle.dump(spectral_lines, file, protocol = pickle.HIGHEST_PROTOCOL)\n",
        "    print(\"Done\\n\")"
      ],
      "execution_count": 0,
      "outputs": [
        {
          "output_type": "stream",
          "text": [
            "Parsing the Cologne Database for Molecular Spectroscopy...\n",
            "Done\n",
            "\n",
            "Parsing the Jet Propulsion Laboratory Molecular Spectroscopy Database...\n",
            "Done\n",
            "\n",
            "Retrieving spectral line frequencies for molecules of interest...\n",
            "0.0% complete...\n",
            "10.0% complete...\n",
            "20.0% complete...\n",
            "30.0% complete...\n",
            "40.0% complete...\n",
            "50.0% complete...\n",
            "60.0% complete...\n",
            "70.0% complete...\n",
            "80.0% complete...\n",
            "90.0% complete...\n",
            "Done\n",
            "\n"
          ],
          "name": "stdout"
        }
      ]
    },
    {
      "cell_type": "markdown",
      "metadata": {
        "id": "-YS0solCebFh",
        "colab_type": "text"
      },
      "source": [
        "# Output"
      ]
    },
    {
      "cell_type": "markdown",
      "metadata": {
        "ExecuteTime": {
          "end_time": "2019-11-18T23:02:11.756741Z",
          "start_time": "2019-11-18T23:02:11.749741Z"
        },
        "id": "AKLVrJHCebFn",
        "colab_type": "text"
      },
      "source": [
        "## View the Raw Data\n",
        "A plot of every data set on a single axis reveals if there are gaps if frequency between data sets"
      ]
    },
    {
      "cell_type": "code",
      "metadata": {
        "ExecuteTime": {
          "end_time": "2020-03-27T19:16:17.625717Z",
          "start_time": "2020-03-27T19:16:16.515717Z"
        },
        "id": "8CJoCllKebFp",
        "colab_type": "code",
        "outputId": "2ce4a0b4-4cc1-4c93-8b32-672b143b28a0",
        "colab": {
          "base_uri": "https://localhost:8080/",
          "height": 581
        }
      },
      "source": [
        "fig2, ax2 = plt.subplots(figsize = (15, 9))\n",
        "# Plot the data\n",
        "ax2.plot(full_data[:, 0] / 1000,\n",
        "         full_data[:, 1],\n",
        "         linewidth = 0.25)\n",
        "ax2.set(title = \"Full Data Spectrum\")\n",
        "ax2.set(ylabel = \"Intensity (nm^2 MHz)\")\n",
        "ax2.set(xlabel = \"Frequency (GHz)\")\n",
        "ax2.title.set_size(24)\n",
        "ax2.yaxis.label.set_size(16)\n",
        "ax2.xaxis.label.set_size(16)\n",
        "ax2.autoscale(enable = True, axis = 'x', tight = True)\n",
        "#ax2.plot([223933.46003 / 1000, 223933.46003 / 1000], [0, 1], color='r', linestyle='-', linewidth=2)"
      ],
      "execution_count": 0,
      "outputs": [
        {
          "output_type": "display_data",
          "data": {
            "image/png": "[encoded data removed]",
            "text/plain": [
              "<Figure size 1080x648 with 1 Axes>"
            ]
          },
          "metadata": {
            "tags": []
          }
        }
      ]
    },
    {
      "cell_type": "markdown",
      "metadata": {
        "id": "PPUnaiGaebF2",
        "colab_type": "text"
      },
      "source": [
        "## View all_molecules and Plot\n",
        "\n",
        "Simply change see_plot to True to see the plot, and see_all_molecules to True to see the dictionary of all molecules."
      ]
    },
    {
      "cell_type": "code",
      "metadata": {
        "ExecuteTime": {
          "end_time": "2020-03-27T19:16:17.725717Z",
          "start_time": "2020-03-27T19:16:17.631716Z"
        },
        "code_folding": [],
        "scrolled": false,
        "id": "fyDaHyObebF4",
        "colab_type": "code",
        "outputId": "67e9c9b4-b604-42d7-c868-bdd0a45fc2df",
        "colab": {
          "base_uri": "https://localhost:8080/",
          "height": 134,
          "referenced_widgets": [
            "5913dfe435e84f998ccf77bb4989338b",
            "994c540da0e14425ac904fcbfbcd90c8",
            "66724bf3290d4e5c93076d5def1cff78",
            "62d477fa29f34e9c8ac4ee81feabf173",
            "df152172601b46c68b55512b6170382f",
            "126716e9ddaf4b60b83a9257ad4bfd2f",
            "e642ba032ea1419f823bf4ed157610a8"
          ]
        }
      },
      "source": [
        "# Specify output to show\n",
        "see_plot = False   # Whether or not to show the plot\n",
        "see_all_molecules = True  # Whether or not to view the all_molecules dictionary\n",
        "\n",
        "\n",
        "# Generate the plot \n",
        "if see_plot:\n",
        "    fig, axs = create_plot(data)\n",
        "    axs = axs.flat\n",
        "    new_plot = find_molecules({})\n",
        "\n",
        "# Output all_molecules in an easily readable table format.\n",
        "if see_all_molecules:\n",
        "    # Make a dropdown widget with each molecule name as an option\n",
        "    all_molecules_dropdown = widgets.Dropdown(\n",
        "        options = all_molecules.keys(),\n",
        "        description = 'Molecule:',\n",
        "        disabled = False,\n",
        "    )\n",
        "\n",
        "    # Define a function that displays the data for the chosen molecule\n",
        "    def show_all_molecules(molecule = list(all_molecules.keys())[0]):\n",
        "        molecule = all_molecules_dropdown.value\n",
        "        print(\"   Molecule Tag:\", all_molecules[molecule][\"Molecule Tag\"])\n",
        "        print(\"   Linelist:\", all_molecules[molecule][\"Linelist\"])\n",
        "        print(\"   Occurances:\\n  \", str(all_molecules[molecule][\"Occurances\"]).strip(\"[]\"))\n",
        "\n",
        "    # Make the widget interactive by having it call show_data every time the value changes\n",
        "    widgets.interact(show_all_molecules, molecule = all_molecules_dropdown)"
      ],
      "execution_count": 0,
      "outputs": [
        {
          "output_type": "display_data",
          "data": {
            "application/vnd.jupyter.widget-view+json": {
              "model_id": "5913dfe435e84f998ccf77bb4989338b",
              "version_minor": 0,
              "version_major": 2
            },
            "text/plain": [
              "interactive(children=(Dropdown(description='Molecule:', options=('Methyl Formate', 'Cyclopropynylidyne', 'Oxet…"
            ]
          },
          "metadata": {
            "tags": []
          }
        }
      ]
    },
    {
      "cell_type": "markdown",
      "metadata": {
        "ExecuteTime": {
          "end_time": "2019-11-07T22:21:28.760584Z",
          "start_time": "2019-11-07T22:21:28.752584Z"
        },
        "id": "7MR-15ZzebGZ",
        "colab_type": "text"
      },
      "source": [
        "# Analysis\n",
        "\n",
        "At this stage, we know all the possible molecules that _could_ be in the data, and we know all spectral line frequencies and intensities that those molecules emit at in the range of our data.  The next step is to classify whether or not a particular molecule is present in the data.\n",
        "\n",
        "One method is to examine how many of the strongest intensity spectral lines exceed the 3$\\sigma$ threshold in the data.  The more spectral lines there are that meet this criteria, the greater our confidence is that the molecule is present."
      ]
    },
    {
      "cell_type": "markdown",
      "metadata": {
        "id": "8ePid656ebGb",
        "colab_type": "text"
      },
      "source": [
        "## Preprocessing"
      ]
    },
    {
      "cell_type": "code",
      "metadata": {
        "ExecuteTime": {
          "end_time": "2020-03-27T19:16:22.944296Z",
          "start_time": "2020-03-27T19:16:17.833717Z"
        },
        "id": "UyMYm1QwebGc",
        "colab_type": "code",
        "colab": {}
      },
      "source": [
        "# Some frequencies in spectral_lines are duplicated.  Remove those first.\n",
        "for molecule in spectral_lines.keys():\n",
        "    spectral_lines[molecule] = spectral_lines[molecule].sort_values('frequency', ascending = False)\n",
        "    spectral_lines[molecule].drop_duplicates(subset = \"frequency\", keep = \"first\", inplace = True)\n",
        "    spectral_lines[molecule] = spectral_lines[molecule].sort_values(by = \"intensity\", ascending = False)"
      ],
      "execution_count": 0,
      "outputs": []
    },
    {
      "cell_type": "markdown",
      "metadata": {
        "ExecuteTime": {
          "end_time": "2019-11-12T18:39:53.083355Z",
          "start_time": "2019-11-12T18:39:53.055353Z"
        },
        "id": "2dApFU3sebGo",
        "colab_type": "text"
      },
      "source": [
        "## Functions"
      ]
    },
    {
      "cell_type": "markdown",
      "metadata": {
        "id": "bQA2RcpiebGp",
        "colab_type": "text"
      },
      "source": [
        "### closest_freq(spectral_frequencies, data_frequencies)\n",
        "\n",
        "The frequencies listed in `spectral_lines` frequency column may not match up exactly to the frequencies found in our data.  For that reason, we need to find the closest frequency in our input data to each frequency in the `spectral_lines` data.  That is, for every known spectral emission frequency in `spectral_lines`, there is a frequency bin in the input data that is _closest_ to it.\n",
        "\n",
        "An important thing to note about this function is that the units of data_frequencies and spectral_frequencies **must** match.  For this reason, `full_data` is already converted from GHz to MH."
      ]
    },
    {
      "cell_type": "code",
      "metadata": {
        "ExecuteTime": {
          "end_time": "2020-03-27T19:16:22.963315Z",
          "start_time": "2020-03-27T19:16:22.948298Z"
        },
        "id": "tEXvga5LebGq",
        "colab_type": "code",
        "colab": {}
      },
      "source": [
        "def closest_freq(spectral_frequencies, data_frequencies):\n",
        "    # Convert the pd.Series to a list\n",
        "    spectral_frequencies = spectral_frequencies.tolist()\n",
        "    # We'll also need an array of zeros to store the results\n",
        "    closest_ids = np.zeros(len(spectral_frequencies), dtype = int)\n",
        "    # Then, for each spectral frequency, find the frequency in the input data closest to it.\n",
        "    for i, freq in enumerate(spectral_frequencies):\n",
        "        # Take the absolute value of the data_frequencies - spectral_frequency\n",
        "        # This will generate an array of values.  The smallest value is the closest frequency\n",
        "        closest_ids[i] = (np.abs(data_frequencies - freq)).argmin()\n",
        "    # Finally, return the array of indices\n",
        "    return closest_ids"
      ],
      "execution_count": 0,
      "outputs": []
    },
    {
      "cell_type": "markdown",
      "metadata": {
        "id": "4ANumf7aebG6",
        "colab_type": "text"
      },
      "source": [
        "### find_matches(spectral_lines)\n",
        "\n",
        "This function will add some columns to the pandas dataframe for each molecule.  The first column it adds is \"closest\" which represents the frequency in the input data that is closest to the frequency obtained from CDMS or JPL.  The next column is \"acceptable\" which returns True if the absolute value of the difference between \"closest\" and \"frequency\" is less than or equal to the \"uncertainty.\""
      ]
    },
    {
      "cell_type": "code",
      "metadata": {
        "ExecuteTime": {
          "end_time": "2020-03-27T19:16:23.082297Z",
          "start_time": "2020-03-27T19:16:22.970320Z"
        },
        "scrolled": true,
        "id": "Cu4EPTxUebG9",
        "colab_type": "code",
        "colab": {}
      },
      "source": [
        "def find_matches(spectral_lines):\n",
        "    for molecule in spectral_lines.keys():\n",
        "        # bounds will contain the indices of spectral_lines where the data is within all the mins and maxs\n",
        "        # First, initialize bounds to have the indices of the data between the min and max of the first dataset\n",
        "        bounds = np.array(np.where( (spectral_lines[molecule][\"frequency\"] >= min_freqs[0]) &\n",
        "                                    (spectral_lines[molecule][\"frequency\"] <= max_freqs[0])  ) )\n",
        "        # Then append to it the indices of spectral_lines where the data is within the remaining mins and maxs\n",
        "        for idx in range(1, len(min_freqs)-1):\n",
        "            bounds = np.append(bounds, np.where( (spectral_lines[molecule][\"frequency\"] >= min_freqs[idx]) &\n",
        "                                                 (spectral_lines[molecule][\"frequency\"] <= max_freqs[idx])  ) )\n",
        "        # Finally, restrict spectral_lines to only those entries contained in bounds.\n",
        "        try:\n",
        "            spectral_lines[molecule] = spectral_lines[molecule].iloc[bounds]\n",
        "        except:\n",
        "            try:\n",
        "                spectral_lines[molecule] = spectral_lines[molecule].iloc[bounds[0]]\n",
        "            except Exception as e:\n",
        "                print(\"Error with bounds.\\n\", e)\n",
        "        \n",
        "        # Find the indices of the closest frequencies to those in the CDMS/JPL data\n",
        "        closest_frequencies = closest_freq(spectral_lines[molecule][\"frequency\"], full_data[:, 0])\n",
        "        # Assign the frequency at the identified indices to a new column in spectral_lines\n",
        "        spectral_lines[molecule][\"closest\"] = full_data[closest_frequencies, 0]\n",
        "        # Copy the flux at each \"closest\" frequency, but set negative values to 0\n",
        "        spectral_lines[molecule][\"flux\"] = full_data[closest_frequencies, 1]\n",
        "        spectral_lines[molecule].loc[spectral_lines[molecule][\"flux\"] < 0, \"flux\"] = 0\n",
        "        # Make a column called \"spike\" that is true when the \"flux\" is greater than 3 sigma\n",
        "        spectral_lines[molecule][\"spike\"] = False\n",
        "        # Make a column called \"sigmas\" that represents the number of std devs away from the mean the flux is\n",
        "        spectral_lines[molecule][\"sigmas\"] = 0.0\n",
        "        # Since each dataset has a different standard deviation, we need to account for that\n",
        "        for idx, dataset in enumerate(data):\n",
        "            # Remove signals greater than 5 sigma by setting them equal to 0\n",
        "            moch_data = dataset.copy()\n",
        "            moch_data[np.where( moch_data[:, 1] >= 5 * np.std(moch_data[:, 1])), 1] = 0  # 0's fluxs >= 5 stddevs\n",
        "            # For each data set, assign \"spike\" = True at each spike.  We can determine which dataset the index\n",
        "            # belongs to by examining the min and max frequency of each dataset.\n",
        "            spectral_lines[molecule][\"spike\"].iloc[\n",
        "                np.where( (spectral_lines[molecule][\"frequency\"] >= min_freqs[idx]) &\n",
        "                          (spectral_lines[molecule][\"frequency\"] <= max_freqs[idx]) &\n",
        "                          (spectral_lines[molecule][\"flux\"] >= 3 * np.std(moch_data[:, 1]))\n",
        "                        )[0]] = True\n",
        "            # Then determine how many standard deviations away from the mean each flux is.\n",
        "            spectral_lines[molecule][\"sigmas\"].iloc[\n",
        "                    np.where( (spectral_lines[molecule][\"frequency\"] >= min_freqs[idx]) &\n",
        "                              (spectral_lines[molecule][\"frequency\"] <= max_freqs[idx]) &\n",
        "                              (spectral_lines[molecule][\"flux\"] > 0)\n",
        "                            )[0]] = spectral_lines[molecule][\"flux\"].iloc[\n",
        "                    np.where( (spectral_lines[molecule][\"frequency\"] >= min_freqs[idx]) &\n",
        "                              (spectral_lines[molecule][\"frequency\"] <= max_freqs[idx]) &\n",
        "                              (spectral_lines[molecule][\"flux\"] > 0)\n",
        "                            )[0]] / np.std(moch_data[:, 1])\n",
        "        # Sort the values by decreasing intensity (highest first), and reset the index so 0 is at the top.\n",
        "        spectral_lines[molecule] = spectral_lines[molecule].sort_values(\n",
        "            by = \"intensity\", ascending = False).reset_index(drop = True)\n",
        "        # Add one to each index so that it resembles rank.\n",
        "        spectral_lines[molecule].index += 1\n",
        "    return spectral_lines"
      ],
      "execution_count": 0,
      "outputs": []
    },
    {
      "cell_type": "markdown",
      "metadata": {
        "id": "OzoF-k5yebHH",
        "colab_type": "text"
      },
      "source": [
        "### add_unknown(spectral_complete)\n",
        "The unknown frequencies were lost when the spectral_lines dictionary was created.  Here, we add them back in and declare their intensities to be the same as that in the data set.  This may introduce some error or bias, which will have to be accounted for."
      ]
    },
    {
      "cell_type": "code",
      "metadata": {
        "ExecuteTime": {
          "end_time": "2020-03-27T19:16:23.211301Z",
          "start_time": "2020-03-27T19:16:23.090309Z"
        },
        "id": "MyioJyxbebHL",
        "colab_type": "code",
        "colab": {}
      },
      "source": [
        "# Also add in the details for any \"Unknown\" frequency spikes if there are any\n",
        "def add_unknown(spectral_complete):\n",
        "    if \"Unknown\" in all_molecules.keys():\n",
        "        if all_molecules_loaded:\n",
        "            unknown_freqs = pd.Series(float(i) for i in all_molecules[\"Unknown\"][\"Occurances\"].strip(\"[]\").split(\", \"))\n",
        "            unknown_freqs *= 1000  # Convert GHz to MHz\n",
        "        else:\n",
        "            unknown_freqs = pd.Series(all_molecules[\"Unknown\"][\"Occurances\"]) * 1000\n",
        "        spectral_complete[\"Unknown\"] = pd.DataFrame(\n",
        "            data = {\"frequency\": full_data[closest_freq(unknown_freqs, full_data[:, 0]), 0],\n",
        "                    \"uncertainty\": [0] * len(unknown_freqs),\n",
        "                    \"intensity\": full_data[closest_freq(unknown_freqs, full_data[:, 0]), 1],\n",
        "                    \"closest\": full_data[closest_freq(unknown_freqs, full_data[:, 0]), 0],\n",
        "                    \"flux\": full_data[closest_freq(unknown_freqs, full_data[:, 0]), 1],\n",
        "                    \"spike\": [True] * len(unknown_freqs),\n",
        "                    \"sigmas\": full_data[closest_freq(unknown_freqs, full_data[:, 0]), 1] / np.std(full_data[:, 1])})\n",
        "        spectral_lines[\"Unknown\"].loc[spectral_lines[\"Unknown\"][\"flux\"] < 0, \"flux\"] = 0\n",
        "        spectral_complete[\"Unknown\"] = spectral_complete[\"Unknown\"].sort_values(\n",
        "            by = \"intensity\", ascending = False).reset_index(drop = True)\n",
        "        # Add one to each index so that it resembles rank.\n",
        "        spectral_complete[\"Unknown\"].index += 1\n",
        "    return spectral_complete"
      ],
      "execution_count": 0,
      "outputs": []
    },
    {
      "cell_type": "markdown",
      "metadata": {
        "id": "VWsdeeJWebHZ",
        "colab_type": "text"
      },
      "source": [
        "### restructure_data(data, spectral_complete)\n",
        "This function will create a new data frame where the index is all the possible molecules, the columns are all the 3$\\sigma$ frequencies, and the values are weights given by the equation:\n",
        "\n",
        "<font size=\"5\">\n",
        "\\begin{equation*}\n",
        "    W = \\left\\{\n",
        "    \\begin{array}{cl}\n",
        "    \\frac{\\phi (10^{I})}{\\sigma} & spike = True \\\\\n",
        "    0 & spike = False \\\\\n",
        "    \\end{array}\n",
        "    \\right.\n",
        "\\end{equation*}\n",
        "</font>\n",
        "\n",
        "Where $\\phi$ and $I$ are the recorded flux and catalogued intensity, respectively, for a given emission line, and $\\sigma$ is the standard deviation of the flux from the data set it came from.  The fraction $\\frac{\\phi}{\\sigma}$ has the effect of determining the number of standard deviations away from the mean the given flux is.  The only exception to the above equation is for the \"Unknown\" molecule.  Since the intensities for \"Unknown\" are the same as the flux (by design), the above equation instead takes the form:\n",
        "\n",
        "<font size=\"5\">\n",
        "\\begin{equation*}\n",
        "    W = \\phi (10^{\\phi})\n",
        "\\end{equation*}\n",
        "</font>\n",
        "\n",
        "This has the effect of causing emissions in the \"Unknown\" category to carry significantly more weight since the value of the flux is generally much greater than a typical catalogued intensity.\n",
        "\n",
        "When determining the standard deviation, the function first identifies all frequencies with flux greater than 3$\\sigma$ after removing any 5$\\sigma$ flux events from a temporary copy of the data -  this helps to better capture the true signal to noise ratio.  Then it creates the dataframe using the keys from the dictionary containing the combined input data and CDMS/JPL data.  Next, populates the dataframe at all frequencies emitted by each molecule.  The final step assigns any frequency columns with no associated molecule to the \"Unknown\" category."
      ]
    },
    {
      "cell_type": "code",
      "metadata": {
        "ExecuteTime": {
          "end_time": "2020-03-27T19:16:23.349297Z",
          "start_time": "2020-03-27T19:16:23.218297Z"
        },
        "id": "MJZRM8FhebHb",
        "colab_type": "code",
        "colab": {}
      },
      "source": [
        "def restructure_data(data, spectral_complete):\n",
        "    spikes = []\n",
        "    # Since there are multiple files, the standard deviation may be different.  Iterate over every file\n",
        "    for dataset in data:\n",
        "        # Remove signals greater than 5 sigma by setting them equal to 0\n",
        "        moch_data = dataset.copy()\n",
        "        moch_data[np.where( moch_data[:, 1] >= 5 * np.std(moch_data[:, 1])), 1] = 0  # 0's fluxs >= 5 stddevs\n",
        "        # Find all frequency spikes in the input data greater than 3 sigma away from the mean\n",
        "        frequencies = np.round(dataset[np.where( dataset[:, 1] >= 3 * np.std(moch_data[:, 1])), 0] * 1000, 5)[0]\n",
        "        # Add those frequencies to the list of spikes\n",
        "        spikes.extend(frequencies)\n",
        "    # Create a Matrix \n",
        "    data_matrix = pd.DataFrame(0.0, index = [key for key in spectral_complete.keys() if \n",
        "                                             spectral_complete[key].empty == False], columns = spikes)\n",
        "    # Fill the matrix with 10^(Intensity) * sigmas at each \"closest\" frequency for each molecule\n",
        "    for molecule in data_matrix.index:\n",
        "        data_matrix.loc[molecule].loc[\n",
        "            list(spectral_complete[molecule][spectral_complete[molecule][\"spike\"] == True][\"closest\"])\n",
        "        ] = list(np.array(10 ** spectral_complete[molecule][spectral_complete[molecule][\"spike\"] == True][\"intensity\"]) * \n",
        "                 np.array(spectral_complete[molecule][spectral_complete[molecule][\"spike\"] == True][\"sigmas\"]))\n",
        "    # Next, there may be some empty columns.  These should get assigned to \"Unknown\"\n",
        "    empty_cols = data_matrix.sum() == 0\n",
        "    # Create a dataframe from the full data for ease of indexing\n",
        "    full_data_dataframe = pd.DataFrame(full_data[:,1], \n",
        "                                       index = full_data[:,0],\n",
        "                                       columns = [\"flux\"])\n",
        "    full_data_dataframe.loc[full_data_dataframe[\"flux\"] < 0, \"flux\"] = 0\n",
        "    # Assign the values with 10^(flux) * flux\n",
        "    data_matrix.loc[\"Unknown\"].loc[empty_cols\n",
        "        ] = list(np.array(10 ** full_data_dataframe.loc[empty_cols[empty_cols == True].index][\"flux\"]) *\n",
        "                 np.array(full_data_dataframe.loc[empty_cols[empty_cols == True].index][\"flux\"]))\n",
        "    # Finally, return the matrix\n",
        "    return data_matrix"
      ],
      "execution_count": 0,
      "outputs": []
    },
    {
      "cell_type": "markdown",
      "metadata": {
        "id": "tsKYxusaebHx",
        "colab_type": "text"
      },
      "source": [
        "## Refine the Data"
      ]
    },
    {
      "cell_type": "code",
      "metadata": {
        "ExecuteTime": {
          "end_time": "2020-03-27T19:16:24.918297Z",
          "start_time": "2020-03-27T19:16:23.353302Z"
        },
        "id": "TeNVDBmhebHz",
        "colab_type": "code",
        "outputId": "716f1a65-8525-40bd-fae3-116026f1c2bb",
        "colab": {
          "base_uri": "https://localhost:8080/",
          "height": 173
        }
      },
      "source": [
        "if \"spectral_complete\" not in locals():\n",
        "    print(\"Refining spectral_lines...\")\n",
        "    # Define the dictionary 'spectral_complete'\n",
        "    spectral_complete = find_matches(spectral_lines)\n",
        "    # Add in the unknown frequecies (if applicable)\n",
        "    spectral_complete = add_unknown(spectral_complete)\n",
        "    # Save the spectral_complete dictionary\n",
        "    with open(path + '/spectral_complete.pkl', 'wb') as file:\n",
        "        pickle.dump(spectral_complete, file, protocol = pickle.HIGHEST_PROTOCOL)\n",
        "    print(\"Done\\n\")\n",
        "\n",
        "# Restructure the data to a more useable form    \n",
        "data_matrix = restructure_data(data, spectral_complete)"
      ],
      "execution_count": 0,
      "outputs": [
        {
          "output_type": "stream",
          "text": [
            "Refining spectral_lines...\n"
          ],
          "name": "stdout"
        },
        {
          "output_type": "stream",
          "text": [
            "/usr/local/lib/python3.6/dist-packages/pandas/core/indexing.py:671: SettingWithCopyWarning: \n",
            "A value is trying to be set on a copy of a slice from a DataFrame\n",
            "\n",
            "See the caveats in the documentation: https://pandas.pydata.org/pandas-docs/stable/user_guide/indexing.html#returning-a-view-versus-a-copy\n",
            "  self._setitem_with_indexer(indexer, value)\n"
          ],
          "name": "stderr"
        },
        {
          "output_type": "stream",
          "text": [
            "Done\n",
            "\n"
          ],
          "name": "stdout"
        }
      ]
    },
    {
      "cell_type": "markdown",
      "metadata": {
        "id": "mSYWFlqxebID",
        "colab_type": "text"
      },
      "source": [
        "## View the Data\n",
        "The refined data, named spectral_complete, is an extension of the data parsed from CDMS and JPL.  It contains all of the downloaded frequencies in the range of the input data (\"frequency\"), the \"uncertainty\" of those frequencies, and lists them in ascending order with the strongest intensities (\"intensity\") at the top.  Additionally, for each frequency, there is an associated \"closest\" frequency from the input data.  If the absolute value of the closest frequency minus the downloaded frequency is less than or equal to the downloaded uncertainty, the column \"acceptable\" is True.  The \"flux\" for the \"closest\" frequency is also listed.  And in the last column, if there was a \"spike\" at that frequency, that is, a flux exceeding the 3$\\sigma$ threshold, the \"spike\" column returns true.\n",
        "\n",
        "You can view the dataframe for any of the molecules by selecting it from the combobox below."
      ]
    },
    {
      "cell_type": "code",
      "metadata": {
        "ExecuteTime": {
          "end_time": "2020-03-27T19:16:25.128322Z",
          "start_time": "2020-03-27T19:16:24.924297Z"
        },
        "scrolled": false,
        "id": "zl5KfY3aebIE",
        "colab_type": "code",
        "outputId": "274bbf42-f6f3-4d4e-d625-6105206aee2e",
        "colab": {
          "base_uri": "https://localhost:8080/",
          "height": 810,
          "referenced_widgets": [
            "9f026212a3d34a7080fa9ab0523a3778",
            "23d88f0892d34cbb9d11538788f6d72f",
            "76125e8371194165aae458ed03b9014e",
            "c5c8c7d07d3f4384b94ce5e22e063944",
            "eebe85343af34e8b8703aae8925507f4",
            "345f902ab7c1486aaac08202935dc14d",
            "1cb0dfc0b57b419180224ac906278cc7"
          ]
        }
      },
      "source": [
        "see_spectral_complete = True\n",
        "\n",
        "if see_spectral_complete:\n",
        "    # Make a dropdown widget with each molecule name as an option\n",
        "    spectral_complete_dropdown = widgets.Dropdown(\n",
        "        options = spectral_complete.keys(),\n",
        "        description = 'Molecule:',\n",
        "        disabled = False,\n",
        "        )\n",
        "\n",
        "    # Define a function that displays the dataframe for the chosen molecule\n",
        "    def show_spectral_complete(molecule = list(spectral_complete.keys())[0]):\n",
        "        molecule = spectral_complete_dropdown.value\n",
        "        display(spectral_complete[molecule])\n",
        "        print(\"Number of spikes:\", spectral_complete[molecule][\"spike\"].sum())\n",
        "        display(spectral_complete[molecule][spectral_complete[molecule][\"spike\"] == True])\n",
        "\n",
        "    # Make the widget interactive by having it call show_data every time the value changes\n",
        "    widgets.interact(show_spectral_complete, molecule = spectral_complete_dropdown)"
      ],
      "execution_count": 0,
      "outputs": [
        {
          "output_type": "display_data",
          "data": {
            "application/vnd.jupyter.widget-view+json": {
              "model_id": "9f026212a3d34a7080fa9ab0523a3778",
              "version_minor": 0,
              "version_major": 2
            },
            "text/plain": [
              "interactive(children=(Dropdown(description='Molecule:', options=('Methyl Formate', 'Cyclopropynylidyne', 'Oxet…"
            ]
          },
          "metadata": {
            "tags": []
          }
        }
      ]
    },
    {
      "cell_type": "markdown",
      "metadata": {
        "id": "eNb75FKJebIN",
        "colab_type": "text"
      },
      "source": [
        "## Set Cover Method\n",
        "\n",
        "The solution to the question, \"What are the most likely molecules that produce the signature we see in the data?\" can be answered by approaching the problem as a Weighted Set Cover problem.  The general overview is outlined below:\n",
        "\n",
        "- The set of all frequencies with fluxes greater than 3 sigma will be called the **\"Universe.\"** \n",
        "- Each possible molecule may have some spikes at a few of the frequencies in the **Universe**.  So all the frequencies with a spike will constitute the **\"Set\"** for that molecule.\n",
        "- Each **Set** also has an associated **\"Weight\"** which is a metric of how much of the **Universe** is being captured by that **Set**.\n",
        "- A **\"Cover\"** is a collection of **Sets** whose union is the **Universe**.  That is, there is a combination of molecules that will reproduce all of the 3 sigma spikes that we see in the input data.\n",
        "- There may be (and will be) multiple **Covers** that can reproduce the **Universe**.  Each **Cover** will have an associated **Total Weight** which will be the sum of the **Weights** of the **Sets** that make up the **Cover**.\n",
        "\n",
        "Our job is to find the most probable **Covers** that can be formed from the fewest number of possible molecules.  It is computationally impossible to find every cover.  The total number of possible **Covers** from just the molecules with at least one known 3$\\sigma$ spike is ~1.18e+59."
      ]
    },
    {
      "cell_type": "markdown",
      "metadata": {
        "id": "8SJFGN3QebIP",
        "colab_type": "text"
      },
      "source": [
        "### Functions"
      ]
    },
    {
      "cell_type": "markdown",
      "metadata": {
        "id": "Ni1pkESKebIR",
        "colab_type": "text"
      },
      "source": [
        "#### mandatory_molecules(molecule_dict):\n",
        "\n",
        "This function will take the dictionary containing the tuples of name, weight, and set frequencies for each molecule and determine which of those _must_ be included in _any_ set cover.  It accomplishes this by examining if there are any frequencies that appear at most once in the entire dataset.  If so, then we know that molecule _must_ be included since there are no others that produce that frequency spike."
      ]
    },
    {
      "cell_type": "code",
      "metadata": {
        "ExecuteTime": {
          "end_time": "2020-03-27T19:16:25.158296Z",
          "start_time": "2020-03-27T19:16:25.134297Z"
        },
        "id": "7JkG5jd3ebIS",
        "colab_type": "code",
        "colab": {}
      },
      "source": [
        "def mandatory_molecules(molecule_dict):\n",
        "    cover_molecules = []  # Contains the tuples of included molecules (name, weight, set)\n",
        "    cover_freqs = set()   # Contains all frequencies covered so far\n",
        "    included = []         # Contains just the names of all included molecules\n",
        "    complete_set = Counter([x for y in list(molecule_dict.values()) for x in y[2]])  # Count of all frequencies\n",
        "    # Iterate through each molecule and check if it is the SOLE contributor for a frequency with just 1 count\n",
        "    for molecule in molecule_dict.keys():\n",
        "        if any(molecule_freqs == complete_set_freqs\n",
        "          for molecule_freqs in Counter(molecule_dict[molecule][2]).items() if molecule_freqs[1] == 1\n",
        "          for complete_set_freqs in complete_set.items() if complete_set_freqs[1] == 1):\n",
        "            included.append(molecule)  # If so, add it to the list of included molecules\n",
        "            cover_freqs = cover_freqs | molecule_dict[molecule][2]  # Add all frequencies it has to the set\n",
        "            cover_molecules.append(molecule_dict[molecule])  # And add the tuple to the list of mandatory molecules\n",
        "    return included, cover_freqs, cover_molecules"
      ],
      "execution_count": 0,
      "outputs": []
    },
    {
      "cell_type": "markdown",
      "metadata": {
        "id": "teJIaSiJebIY",
        "colab_type": "text"
      },
      "source": [
        "#### smallest_cover(data_matrix, molecule_dict)\n",
        "\n",
        "This function takes the `data_matrix` and `molecule_dict` as inputs, and operates on the idea that each frequency spike in the data has a molecule that contributes the most to it.  By constructing a cover from the molecules that contribute the most to each spike, we essentially are creating the most probable cover.\n",
        "\n",
        "`cover_molecules` is the list of tuples that will make up the cover.  Initially it's empty, but gets populated with the tuples contained in `molecule_dict`.  `cover_freqs` is the set of all frequency spikes covered thus far.  It too is initialized as an empty set since nothing has been added yet.  Another empty list, `included`, is created to hold the names of every molecule that is included in the set cover.  Finally, a copy of `data_matrix` is in order since changes will be made to it that we do not want made in `data_matrix`.\n",
        "\n",
        "As long as `cover_freq`s doesn't span `universe`, the function continues.  It finds the row (molecule name) and column (frequency) of the spike with the highest weight and appends its tuple from `molecule_dict` if the molecule is not already included in the list of `cover_included`.  If it is not already included, the molecule tuple is added to `cover_molecules` and the entry in `cover_matrix` at the molecule row and frequency column is set to 0.  This step is included to ensure that subsequent iterations of the while loop do not get stuck on the same value."
      ]
    },
    {
      "cell_type": "code",
      "metadata": {
        "ExecuteTime": {
          "end_time": "2020-03-27T19:16:25.336297Z",
          "start_time": "2020-03-27T19:16:25.162296Z"
        },
        "id": "YDCOeaYHebIc",
        "colab_type": "code",
        "colab": {}
      },
      "source": [
        "def smallest_cover(matrix, molecule_dict):\n",
        "    cover_matrix = matrix.copy()\n",
        "    # Initialize the cover with all molecules with unique signatures in the data\n",
        "    base_included, base_freqs, base_molecules = mandatory_molecules(molecule_dict)\n",
        "    # Copy the base variables so we can expand them to the full cover\n",
        "    cover_included = base_included.copy()\n",
        "    cover_freqs = base_freqs.copy()\n",
        "    cover_molecules = base_molecules.copy()\n",
        "    # Keep iterating until we have a valid cover\n",
        "    while cover_freqs != universe:\n",
        "        # Find the row and column where the maximum occurs in the data matrix\n",
        "        column_name = cover_matrix.max().idxmax()\n",
        "        row_name = cover_matrix[column_name].idxmax()\n",
        "        # Get the name of the molecule and the set of frequencies belonging to it\n",
        "        molecule_name = molecule_dict[row_name][0]\n",
        "        molecule_set = molecule_dict[row_name][2]\n",
        "        # and bool(molecule_set - cover_freqs)\n",
        "        if molecule_name not in cover_included:\n",
        "            cover_included.append(molecule_name)\n",
        "            cover_freqs = cover_freqs | molecule_set\n",
        "            cover_molecules.append(molecule_dict[molecule_name])\n",
        "        cover_matrix.loc[row_name, column_name] = 0\n",
        "    return base_included, base_freqs, base_molecules, cover_included, cover_freqs, cover_molecules"
      ],
      "execution_count": 0,
      "outputs": []
    },
    {
      "cell_type": "markdown",
      "metadata": {
        "id": "mzyJzdZyebIx",
        "colab_type": "text"
      },
      "source": [
        "#### refine_cover(not_included, data_matrix, molecule_dict, mandatory_molecules)\n",
        "\n",
        "It may be the case that some molecules are known **not** to exist in the atmosphere, but was identified as probable by the set cover.  This function takes the name of a molecule to be excluded and manipulates the data to account for its removal.  If the molecule being removed is not among the mandatory molecules (those included in *any* cover), then the molecule is dropped from the data_matrix dataframe and removed from the molecule_dict dictionary.  The `smallest_cover` function is then re-run without this molecule present in the data anymore, and a new cover is discovered that excludes it.\n",
        "\n",
        "If however, the molecule being removed **is** part of the mandatory molecules, then there are some additional steps to include.  Since the molecule was mandatory, that means that at least one of its spikes was the _only_ source for that 3$\\sigma$ event.  Therefore we must assign that molecules spikes to the \"Unknown\" category.  Then, molecule_dict must be updated to reflect the new changes to \"Unknown\".  Once this is complete, the molecule is removed as described above and `smallest_cover` is run again to find a new cover."
      ]
    },
    {
      "cell_type": "code",
      "metadata": {
        "ExecuteTime": {
          "end_time": "2020-03-27T19:16:25.509460Z",
          "start_time": "2020-03-27T19:16:25.342297Z"
        },
        "id": "7ZCg2DgFebI1",
        "colab_type": "code",
        "colab": {}
      },
      "source": [
        "def refine_cover(not_included, data_matrix, molecule_dict, mandatory_molecules):\n",
        "    # Check if the molecule to be removed is in the list of mandatory molecules\n",
        "    if not_included in mandatory_molecules:\n",
        "        # If it is, this means we're about to remove a molecule that is the only source for a particular spike\n",
        "        # Therefore, some unknown molecule must be the source of the signature.  Add that molecule's weights\n",
        "        # to Unknown\n",
        "        cols = data_matrix.columns[data_matrix.loc[not_included] > 0]\n",
        "        data_matrix.loc[\"Unknown\", cols] = data_matrix.loc[not_included, cols]\n",
        "        data_matrix.loc[not_included, cols] = 0\n",
        "        molecule_dict[\"Unknown\"] = (\"Unknown\", \n",
        "                                    data_matrix.loc[\"Unknown\"].sum(),\n",
        "                                    set(data_matrix.columns[data_matrix.loc[\"Unknown\"] > 0]))\n",
        "    # Delete the entire row from cover_matrix and remove the molecule from molecule_dict\n",
        "    data_matrix = data_matrix.drop(not_included)\n",
        "    del molecule_dict[not_included]\n",
        "    # Run the smallest cover function on the new information\n",
        "    return smallest_cover(data_matrix, molecule_dict)"
      ],
      "execution_count": 0,
      "outputs": []
    },
    {
      "cell_type": "markdown",
      "metadata": {
        "id": "OnfxzAPvebJF",
        "colab_type": "text"
      },
      "source": [
        "### Run Analysis"
      ]
    },
    {
      "cell_type": "code",
      "metadata": {
        "ExecuteTime": {
          "end_time": "2020-03-27T19:16:26.631296Z",
          "start_time": "2020-03-27T19:16:25.521298Z"
        },
        "id": "I281J-jPebJH",
        "colab_type": "code",
        "colab": {}
      },
      "source": [
        "# Define the universe.  This is the set of all 3 sigma spikes\n",
        "universe = set(data_matrix.columns)\n",
        "# Make a list containing a tuple for each molecule with its name, weight, and set of 3 sigma frequencies\n",
        "molecule_sets = [(x, \n",
        "                  data_matrix.loc[x].sum(),\n",
        "                  set(data_matrix.columns[data_matrix.loc[x] > 0])\n",
        "                 ) for x in list(data_matrix.index)]\n",
        "# Restrict the above molecules to only those with spikes\n",
        "molecule_sets = [entry for entry in molecule_sets if (bool(entry[2]) and entry[2] <= universe)]\n",
        "# Make a dictionary of molecule_sets for ease of access\n",
        "molecule_dict = {entry[0]: entry for entry in molecule_sets}\n",
        "\n",
        "# Find the best cover from the possible molecules\n",
        "base_included, base_freqs, base_molecules, cover_included, cover_freqs, cover_molecules = smallest_cover(\n",
        "    data_matrix, molecule_dict)"
      ],
      "execution_count": 0,
      "outputs": []
    },
    {
      "cell_type": "markdown",
      "metadata": {
        "id": "641bqYoEebJQ",
        "colab_type": "text"
      },
      "source": [
        "## Refine the Cover\n",
        "\n",
        "The Set Cover Method above finds the most probable set of molecules that match the signature of the data.  It is possible though that among the probable molecules exist some that are known **not** to exist in the atmosphere.  In this scenario, we must remove these molecules one-by-one until a solution is found that is acceptable by the domain experts."
      ]
    },
    {
      "cell_type": "code",
      "metadata": {
        "ExecuteTime": {
          "end_time": "2020-03-27T19:16:26.766296Z",
          "start_time": "2020-03-27T19:16:26.636296Z"
        },
        "scrolled": true,
        "id": "gHvWlsrNebJS",
        "colab_type": "code",
        "outputId": "4f8a0c50-9609-4d5f-b4ea-f0b6fa365b57",
        "colab": {
          "base_uri": "https://localhost:8080/",
          "height": 81,
          "referenced_widgets": [
            "bbb3f46f6e264904a0d405c3fe00447a",
            "c5adce7972554691bfc045267be25ba9",
            "26ca0201a4da4cb5b06003ef42111dd2",
            "4ee062b3e27b4141b76cf8153e16fd5f",
            "4de41bd0fe7544488e674fbe74f3b389",
            "7e6c931094104bd2aebb95395688d6fc"
          ]
        }
      },
      "source": [
        "molecule_to_remove = widgets.Combobox(\n",
        "    placeholder = \"Select a molecule to exclude\",\n",
        "    options = ['None'] + cover_included,\n",
        "    description = 'Molecule:',\n",
        "    ensure_option = False,\n",
        "    disabled = False,\n",
        ")\n",
        "confirm_button = widgets.Button(\n",
        "    description = 'Remove',\n",
        "    disabled = True,\n",
        "    button_style = '', # 'success', 'info', 'warning', 'danger' or ''\n",
        "    tooltip = 'Click me',\n",
        "    icon = 'None'\n",
        ")\n",
        "\n",
        "def get_cover(self):\n",
        "    get_cover.removed = True\n",
        "    get_cover.b_inc = []\n",
        "    get_cover.b_frq = {}\n",
        "    get_cover.b_mol = []\n",
        "    get_cover.c_inc = []\n",
        "    get_cover.c_frq = {}\n",
        "    get_cover.c_mol = []\n",
        "    print(\"Removing\", molecule_to_remove.value + \"...\")\n",
        "    get_cover.b_inc, get_cover.b_frq, get_cover.b_mol, get_cover.c_inc, get_cover.c_frq, get_cover.c_mol = refine_cover(\n",
        "        molecule_to_remove.value, data_matrix, molecule_dict, base_included)\n",
        "    print(\"Done.  New set cover available.\")\n",
        "    return get_cover.removed, get_cover.b_inc, get_cover.b_frq, get_cover.b_mol, get_cover.c_inc, get_cover.c_frq, get_cover.c_mol\n",
        "    \n",
        "def show_cover_molecules(molecule = list(['None'] + cover_included)):\n",
        "    molecule = molecule_to_remove.value\n",
        "    if molecule_to_remove.value in cover_included: \n",
        "        confirm_button.disabled = False \n",
        "    else:\n",
        "        confirm_button.disabled = True\n",
        "    return molecule\n",
        "\n",
        "# Make the widget interactive by having it call show_data every time the value changes\n",
        "confirm_button.on_click(get_cover)\n",
        "widgets.interactive(show_cover_molecules, molecule = molecule_to_remove)\n",
        "display(molecule_to_remove, confirm_button)"
      ],
      "execution_count": 0,
      "outputs": [
        {
          "output_type": "display_data",
          "data": {
            "application/vnd.jupyter.widget-view+json": {
              "model_id": "bbb3f46f6e264904a0d405c3fe00447a",
              "version_minor": 0,
              "version_major": 2
            },
            "text/plain": [
              "Combobox(value='', description='Molecule:', options=('None', 'Methyl Formate', 'Hydroxyacetone', 'Phenol', 'Gl…"
            ]
          },
          "metadata": {
            "tags": []
          }
        },
        {
          "output_type": "display_data",
          "data": {
            "application/vnd.jupyter.widget-view+json": {
              "model_id": "4ee062b3e27b4141b76cf8153e16fd5f",
              "version_minor": 0,
              "version_major": 2
            },
            "text/plain": [
              "Button(description='Remove', disabled=True, icon='None', style=ButtonStyle(), tooltip='Click me')"
            ]
          },
          "metadata": {
            "tags": []
          }
        }
      ]
    },
    {
      "cell_type": "code",
      "metadata": {
        "ExecuteTime": {
          "end_time": "2020-03-27T19:16:26.828295Z",
          "start_time": "2020-03-27T19:16:26.778299Z"
        },
        "scrolled": true,
        "id": "sePCs4YCebJY",
        "colab_type": "code",
        "outputId": "67efec9f-3d8a-4860-9d85-44b21556826e",
        "colab": {
          "base_uri": "https://localhost:8080/",
          "height": 34
        }
      },
      "source": [
        "try:\n",
        "    if get_cover.removed:\n",
        "        base_inlcuded = get_cover.b_inc\n",
        "        base_freqs = get_cover.b_frq\n",
        "        base_molecules = get_cover.b_mol\n",
        "        cover_included = get_cover.c_inc\n",
        "        cover_freqs = get_cover.c_frq\n",
        "        cover_molecules = get_cover.c_mol\n",
        "        get_cover.removed = False\n",
        "        print(\"New cover successfully implemented.\")\n",
        "except:\n",
        "    print(\"No molecules have been removed.\")"
      ],
      "execution_count": 0,
      "outputs": [
        {
          "output_type": "stream",
          "text": [
            "No molecules have been removed.\n"
          ],
          "name": "stdout"
        }
      ]
    },
    {
      "cell_type": "markdown",
      "metadata": {
        "id": "01ZGeQLxebJl",
        "colab_type": "text"
      },
      "source": [
        "Run the last 2 cells as needed for each molecule to be removed."
      ]
    },
    {
      "cell_type": "markdown",
      "metadata": {
        "id": "vhxQSe8kebJm",
        "colab_type": "text"
      },
      "source": [
        "## Crop the Cover\n",
        "\n",
        "Once all of the molecules that are known to not exist in the atmosphere are manually removed, we can crop the entries in the resulting cover to only include those that meet a likelihood threshold.  This threshold will be specified by user input and the selection criteria will be determined for each molecule by the following equation:\n",
        "<font size=\"5\">\n",
        "\\begin{equation*}\n",
        "F_{molecule} = \\sum_{j=1}^n \\left\\{\n",
        "  \\begin{array}{cl}\n",
        "  \\frac{10^{I_j}}{\\sum_{k=1}^n 10^{I_k}} & spike_j = True \\\\\n",
        "  0 & spike_j = False \\\\\n",
        "  \\end{array}\n",
        "  \\right.\n",
        "\\end{equation*}\n",
        "</font>\n",
        "\n",
        "Where $F_{molecule}$ is the fraction of intensities present for the given molecule, _n_ is the number of emission lines in the range of the input data for a given molecule, $I_j$ and $I_k$ are the CDMS or JPL intensity for the _jth_ and _kth_ entry, and $spike_j$ is the boolean value of whether or not a spike is present in the _jth_ emission line.  This selection criteria does not account for the value of the flux where a spike is present.  Therefore, two entries with identical intensities will carry the same weight regardless of the flux as long as it meets the 3$\\sigma$ threshold.  An alternative to the above equation that does account for flux is identified here:\n",
        "\n",
        "<font size=\"5\">\n",
        "\\begin{equation*}\n",
        "F_{molecule} = \\sum_{j=1}^n \\sqrt{\\left( \\frac{10^{I_j}}{\\sum_{k=1}^n 10^{I_k}} - \n",
        "    \\frac{\\phi_j}{\\sum_{k=1}^n \\phi_k} \\right)^2}\n",
        "\\end{equation*}\n",
        "</font>\n",
        "\n",
        "Where $F_{molecule}$, _n_, $I_j$, $I_k$, _i_ and _j_ are defined as before, with the addition of the flux of the _jth_ and _kth_ entry, $\\phi_j$ and $\\phi_k$, respectively. Functionally, it is the square root of the difference of proportions between intensity and flux, squared.  In this form, a molecule is selected if $F_{molecule}$ is less than or equal to the specified threshold.  This metric accounts for flux, but ignores whether or not the flux was detected at or above the 3$\\sigma$ threshold.  While this may lead to the detection of weaker signals found below 3$\\sigma$, it may also introduce molecules that are actually noise.  We leave it to the domain experts to decide which metric works best."
      ]
    },
    {
      "cell_type": "code",
      "metadata": {
        "ExecuteTime": {
          "end_time": "2020-03-27T19:16:26.966297Z",
          "start_time": "2020-03-27T19:16:26.836296Z"
        },
        "id": "TmKo-GeuebJo",
        "colab_type": "code",
        "colab": {}
      },
      "source": [
        "def crop_cover(cover_molecules, complete_data = None, metric = \"intensity\", threshold = .9):\n",
        "    \"\"\"This function will iterate through each molecule in the complete cover and select from it only those\n",
        "    molecules that meet the threshold criteria for the specified metric.  Valid values for metric are 'intensity',\n",
        "    and 'flux'.  \n",
        "    \n",
        "    With the 'intensity' metric, the fraction of the inverse log of intensity over the sum of\n",
        "    the inverse log of all intensities is summed together wherever a spike is present.  The result represents\n",
        "    the proportion of the expected intensities accounted for by each spike.  As long as this proportion\n",
        "    exceeds the specified threshold, the molecule is included.  A threshold of 0.8 or greater works well with\n",
        "    this metric.\n",
        "    \n",
        "    With the 'flux' metric, the normalized square root of the sum of squares of the difference between the\n",
        "    proportion of accounted intensity and the proportion of accounted flux is calculated for each frequency\n",
        "    found in the data.  A moleclue is included if the result is less than the specified threshold.  A\n",
        "    threshold of 1 works well with this metric.\"\"\"\n",
        "    \n",
        "    # Read in spectral_complete\n",
        "    if complete_data == None:\n",
        "        try:\n",
        "            with open(path + '/spectral_complete.pkl', 'rb') as file:\n",
        "                complete_data = pickle.load(file)\n",
        "            complete_data = {key: pd.DataFrame.from_dict(value).astype({\"frequency\": np.float64, \n",
        "                                                                        \"uncertainty\": np.float64,\n",
        "                                                                        \"intensity\": np.float64,\n",
        "                                                                        \"closest\": np.float64,\n",
        "                                                                        \"flux\": np.float64,\n",
        "                                                                        \"spike\": bool}) for key, value in spectral_complete.items()}\n",
        "        except:\n",
        "            print(\"Unable to load in complete_data (spectral_complete).\")\n",
        "            print(\"Please check if it exists in the directory: \", path)\n",
        "            return\n",
        "        \n",
        "    probable_molecules = {}  # Dictionary to store the results\n",
        "    \n",
        "    # Iterate through all included molecules\n",
        "    for molecule in cover_molecules:\n",
        "        # Calculate the sum of the inverse log of all emission lines\n",
        "        I = sum(np.array(10 ** complete_data[molecule][\"intensity\"]))\n",
        "        # Calculate the sum of all fluxes from emission lines\n",
        "        Phi = sum(np.array(complete_data[molecule][\"flux\"]))\n",
        "        \n",
        "        if metric == \"intensity\":\n",
        "            # Calculate the fraction of expected intensities present\n",
        "            F = sum(\n",
        "                np.array(10 ** complete_data[molecule][complete_data[molecule][\"spike\"] == True][\"intensity\"]) / I)\n",
        "            # Determine if F >= threshold\n",
        "            if F >= threshold:\n",
        "                probable_molecules[molecule] = F\n",
        "\n",
        "        if metric == \"flux\":\n",
        "            # Calculate the difference of proportions between flux and intensity\n",
        "            F = sum(\n",
        "                    (\n",
        "                        (\n",
        "                            np.array(10 ** complete_data[molecule][\"intensity\"] / I) - \n",
        "                            np.array(complete_data[molecule][\"flux\"] / Phi)\n",
        "                        )**2)**.5)# / len(complete_data[molecule])\n",
        "            # Determine if F >= threshold\n",
        "            if F <= threshold:\n",
        "                probable_molecules[molecule] = F\n",
        "            # Always include \"Unknown\" whether or not it meets the criteria\n",
        "            if molecule == \"Unknown\":\n",
        "                probable_molecules[molecule] = F\n",
        "        \n",
        "    return probable_molecules"
      ],
      "execution_count": 0,
      "outputs": []
    },
    {
      "cell_type": "code",
      "metadata": {
        "ExecuteTime": {
          "end_time": "2020-03-27T19:16:27.895366Z",
          "start_time": "2020-03-27T19:16:26.974296Z"
        },
        "id": "xS3Hw09oebJ2",
        "colab_type": "code",
        "colab": {}
      },
      "source": [
        "intensity_results = crop_cover(cover_included, spectral_complete, metric = \"intensity\", threshold = .7)\n",
        "flux_results = crop_cover(cover_included, spectral_complete, metric = \"flux\", threshold = 1)"
      ],
      "execution_count": 0,
      "outputs": []
    },
    {
      "cell_type": "markdown",
      "metadata": {
        "id": "PX-YAXgRebKA",
        "colab_type": "text"
      },
      "source": [
        "# Results\n",
        "\n",
        "The most probable cover has been identified, and molecules known to not be present have been removed.  The resulting cover has been passed through an activation function where only the most probably molecules are left.  Whether the selection criteria was based on \"intensity\" or based on \"flux,\" it is important to note that the \"Unknown\" molecule is included regardless.  This could be a single molecule, but more  likely a combination of several for which data just isn't available yet.\n",
        "\n",
        "The results from both evaluation metrics are shown below."
      ]
    },
    {
      "cell_type": "markdown",
      "metadata": {
        "id": "JP5oM8GpebKC",
        "colab_type": "text"
      },
      "source": [
        "## View Included Molecules in the Cover\n",
        "\n",
        "Below is a list of the mandatory and most probable molecules that complete the cover."
      ]
    },
    {
      "cell_type": "code",
      "metadata": {
        "ExecuteTime": {
          "end_time": "2020-03-27T19:16:27.926298Z",
          "start_time": "2020-03-27T19:16:27.902298Z"
        },
        "scrolled": false,
        "id": "kAlOn_wCebKD",
        "colab_type": "code",
        "outputId": "1e2836e1-d11f-4db9-a6c7-def107e4b8c8",
        "colab": {
          "base_uri": "https://localhost:8080/",
          "height": 1000
        }
      },
      "source": [
        "print(\"Mandatory molecules: (\" + str(len(base_included)) + \")\\n\\n\"  + \"\\n\".join(sorted(base_included)))\n",
        "other_names = [x[0] for x in cover_molecules if x not in base_molecules]\n",
        "print(\"\\nProbable molecules: (\" + str(len(other_names)) + \")\\n\\n\" + \"\\n\".join(sorted(other_names)))"
      ],
      "execution_count": 0,
      "outputs": [
        {
          "output_type": "stream",
          "text": [
            "Mandatory molecules: (34)\n",
            "\n",
            "&alpha;-Alanine\n",
            "1,2-propanediol, aG'g\n",
            "1,2-propanediol, g'G'g\n",
            "1,3-propanediol, gGG'g\n",
            "2-Cyanobutane\n",
            "3-Methylbutyronitrile\n",
            "<i>cyclo</i>-Propyl cyanide\n",
            "<i>n</i>-Propanol\n",
            "Aminoethanol\n",
            "Anisole\n",
            "Benzonitrile\n",
            "Bromine Dioxide\n",
            "Carbonyl cyanide\n",
            "Chlorine dioxide\n",
            "Diethyl ether\n",
            "Diketene\n",
            "Ethyl Cyanide\n",
            "Formic Acid\n",
            "Glycine\n",
            "Hydroxyacetone\n",
            "Methanol\n",
            "Methyl Carbamate\n",
            "Methyl Cyanide\n",
            "Methyl Formate\n",
            "Methyl chloride\n",
            "Monothioformic acid\n",
            "Phenol\n",
            "Propane\n",
            "Propargyl Alcohol\n",
            "Unknown\n",
            "Vinyl Cyanide\n",
            "Vinylamine\n",
            "Vinylcyanoacetylene\n",
            "gauche-n-butyronitrile, v<sub>28</sub> = 1\n",
            "\n",
            "Probable molecules: (64)\n",
            "\n",
            "(Z)-Cyanovinylacetylene\n",
            "1,2-propanediol, gG'a\n",
            "1,3-Butadiynyl radical\n",
            "<i>anti</i>-Ethanol\n",
            "Acetaldehyde\n",
            "Acetone\n",
            "Aminoacetonitrile\n",
            "Benzaldehyde\n",
            "Butyronitrile\n",
            "Chlorine nitrate\n",
            "Chlorine peroxide\n",
            "Chloryl chloride\n",
            "Cyanamide\n",
            "Cyanoacetylene\n",
            "Cyanobutadiyne\n",
            "Cyanobutadiynylide anion\n",
            "Cyanoethenone\n",
            "Cyanomethyl\n",
            "Cyanopropynyl\n",
            "Cyclopropynylidyne\n",
            "Difluoromethane\n",
            "Dihydroxyacetone\n",
            "Dimethyl ether\n",
            "Disulfur dioxide, <i>cis</i>-isomer\n",
            "Ethanol, gauche/anti combined\n",
            "Ethyl cyanide\n",
            "Ethylene Glycol\n",
            "Formamide\n",
            "Formyl Chloride\n",
            "Glycolaldehyde\n",
            "Hexatriynylformyl\n",
            "Hydrogen peroxide\n",
            "Hydroxyacetonitrile\n",
            "Methanimine\n",
            "Methyl Acetylene\n",
            "Methyl diacetylene\n",
            "Methyl formate, v<sub>t</sub> = 0, 1\n",
            "Methyleneaminoacetonitrile\n",
            "Oxetane\n",
            "Peroxynitric acid\n",
            "Peroxynitrous acid\n",
            "Potassium chloride\n",
            "Propadienonethione\n",
            "Propadienylidene\n",
            "Propenal\n",
            "Propenoic acid\n",
            "Pyridine\n",
            "Pyrrole\n",
            "Scandium monosulfide\n",
            "Sodium monoxide\n",
            "Sulfur Dioxide\n",
            "Sulfuric acid\n",
            "Tetrasulfur\n",
            "Thioformaldehyde\n",
            "Vinyl Isocyanide\n",
            "Vinyl formate\n",
            "gauche-Ethanol\n",
            "gauche-n-butyronitrile\n",
            "gauche-n-butyronitrile, v<sub>30</sub> = 2\n",
            "iso-propyl cyanide\n",
            "n-Butyl cyanide\n",
            "n-Butyronitrile, gauche/anti combined\n",
            "o-Benzyne\n",
            "trans-Ethanol\n"
          ],
          "name": "stdout"
        }
      ]
    },
    {
      "cell_type": "markdown",
      "metadata": {
        "id": "aBcJfY72ebKO",
        "colab_type": "text"
      },
      "source": [
        "## View Results of \"Intensity\" Metric"
      ]
    },
    {
      "cell_type": "code",
      "metadata": {
        "ExecuteTime": {
          "end_time": "2020-03-27T19:16:28.058302Z",
          "start_time": "2020-03-27T19:16:27.933297Z"
        },
        "scrolled": false,
        "id": "yp1wqKj3ebKR",
        "colab_type": "code",
        "outputId": "c462c2f5-1c47-4b8c-dd90-3bda0ab7d216",
        "colab": {
          "base_uri": "https://localhost:8080/",
          "height": 153
        }
      },
      "source": [
        "print(pd.DataFrame.from_dict(intensity_results,\n",
        "                             orient = \"index\",\n",
        "                             columns = [\"Weight\"]).sort_values(by = \"Weight\", ascending = False))"
      ],
      "execution_count": 0,
      "outputs": [
        {
          "output_type": "stream",
          "text": [
            "                            Weight\n",
            "Unknown                   1.000000\n",
            "Cyanoacetylene            1.000000\n",
            "Cyanobutadiynylide anion  1.000000\n",
            "Thioformaldehyde          0.999981\n",
            "Methyl Acetylene          0.816941\n",
            "Ethyl Cyanide             0.767967\n",
            "Methyl Cyanide            0.729757\n"
          ],
          "name": "stdout"
        }
      ]
    },
    {
      "cell_type": "markdown",
      "metadata": {
        "id": "mEeE7wlRebKZ",
        "colab_type": "text"
      },
      "source": [
        "## View Results of \"Flux\" Metric"
      ]
    },
    {
      "cell_type": "code",
      "metadata": {
        "ExecuteTime": {
          "end_time": "2020-03-27T19:16:28.201296Z",
          "start_time": "2020-03-27T19:16:28.065384Z"
        },
        "id": "je9u9rkmebKa",
        "colab_type": "code",
        "outputId": "36da8e09-90f1-44fe-98ac-1f69feb1debf",
        "colab": {
          "base_uri": "https://localhost:8080/",
          "height": 204
        }
      },
      "source": [
        "print(pd.DataFrame.from_dict(flux_results, \n",
        "                             orient = \"index\", \n",
        "                             columns = [\"Weight\"]).sort_values(by = \"Weight\"))"
      ],
      "execution_count": 0,
      "outputs": [
        {
          "output_type": "stream",
          "text": [
            "                            Weight\n",
            "Cyanoacetylene            0.000000\n",
            "Cyanobutadiynylide anion  0.000000\n",
            "Thioformaldehyde          0.000038\n",
            "Methyl Acetylene          0.273384\n",
            "Unknown                   0.274178\n",
            "Methyl Cyanide            0.398484\n",
            "1,3-Butadiynyl radical    0.718862\n",
            "Ethyl Cyanide             0.870149\n",
            "Scandium monosulfide      0.979976\n",
            "Propadienonethione        0.982568\n"
          ],
          "name": "stdout"
        }
      ]
    },
    {
      "cell_type": "markdown",
      "metadata": {
        "id": "Hi5A-08-i7JE",
        "colab_type": "text"
      },
      "source": [
        "## View Detected Molecule Spectral Lines\n",
        "\n",
        "Use the combo box as before to view the spectral lines of the detected molecules."
      ]
    },
    {
      "cell_type": "code",
      "metadata": {
        "id": "MMPzVip3jmZf",
        "colab_type": "code",
        "colab": {}
      },
      "source": [
        ""
      ],
      "execution_count": 0,
      "outputs": []
    },
    {
      "cell_type": "code",
      "metadata": {
        "id": "754drOrOjN2-",
        "colab_type": "code",
        "outputId": "2d0d2055-6e1d-4aba-d1c7-0fac9038870b",
        "colab": {
          "base_uri": "https://localhost:8080/",
          "height": 287,
          "referenced_widgets": [
            "503dc91717d84c56934e68698c158df8",
            "dd322358079b4430857be82f0c8803bc",
            "0131310640ee490fb7cc101a5fd1f283",
            "40a714aa9aae44f19164fbf6d7a7f4fa",
            "e6598de1f474457e9cbaa463f01323d1",
            "c09d4d67897c4001a6353b0c6fd7a0da",
            "8d8f758ce9dc43d892fbad93c0e2a9d5",
            "4398bad8992b45bd95d31226059ba11c",
            "9324e283820d4628b8781208cd8f1668",
            "5c98a67ad2bc46b382f80da1d8e16168",
            "16b4dd2e487a4da78ca63d1135e7c4bb",
            "f43162f10df347f0812f4536426bc3c5",
            "ccdbb9fb1a1f4933a4630d637adcf24c",
            "e78be2f6582e487da9b3752c9675e0db",
            "26a90f63554d4cb5a438f076097f7b4c",
            "44640a5499004d53be323703f62b41be",
            "5fdb1047ef6e4193b6962a8cf5a17bb1",
            "a90870987b094740b78e19e3fbe0201c"
          ]
        }
      },
      "source": [
        "# Make a radio button widget to allow the user to select the metric to review\n",
        "metric_type = widgets.RadioButtons(\n",
        "  options = ['intensity', 'flux'],\n",
        "  description = 'Metric:',\n",
        "  disabled = False\n",
        ")\n",
        "\n",
        "# Define a function that updates the displayed results\n",
        "def which_metric(metric):\n",
        "  if (metric == 'intensity'):\n",
        "    spectral_results = {key: spectral_complete[key] for key in intensity_results.keys()}\n",
        "  else:\n",
        "    spectral_results = {key: spectral_complete[key] for key in flux_results.keys()}\n",
        "  # Make a dropdown widget with each molecule name as an option\n",
        "  spectral_results_dropdown = widgets.Dropdown(\n",
        "            options = spectral_results.keys(),\n",
        "            description = 'Molecule:',\n",
        "            disabled = False      )\n",
        "  i = widgets.interactive(show_spectral_results, molecule = spectral_results_dropdown)\n",
        "  display(i)\n",
        "\n",
        "# Define a function that displays the dataframe for the chosen molecule\n",
        "def show_spectral_results(molecule = list(spectral_results.keys())[0]):\n",
        "    molecule = spectral_results_dropdown.value\n",
        "    display(spectral_results[molecule])\n",
        "    print(\"Number of spikes:\", spectral_results[molecule][\"spike\"].sum())\n",
        "    display(spectral_results[molecule][spectral_results[molecule][\"spike\"] == True])\n",
        "\n",
        "# Make the widget interactive by having it call show_data every time the value changes\n",
        "q = widgets.interactive(which_metric, metric = metric_type)\n",
        "display(q)"
      ],
      "execution_count": 0,
      "outputs": [
        {
          "output_type": "display_data",
          "data": {
            "application/vnd.jupyter.widget-view+json": {
              "model_id": "503dc91717d84c56934e68698c158df8",
              "version_minor": 0,
              "version_major": 2
            },
            "text/plain": [
              "interactive(children=(RadioButtons(description='Metric:', options=('intensity', 'flux'), value='intensity'), O…"
            ]
          },
          "metadata": {
            "tags": []
          }
        }
      ]
    },
    {
      "cell_type": "markdown",
      "metadata": {
        "id": "6DrkNXf-ebKm",
        "colab_type": "text"
      },
      "source": [
        "## View Molecule Signatures\n",
        "\n",
        "Here we can see every included molecule, and how it contributes to the overall signature of the input data."
      ]
    },
    {
      "cell_type": "code",
      "metadata": {
        "ExecuteTime": {
          "end_time": "2020-03-27T19:16:28.388297Z",
          "start_time": "2020-03-27T19:16:28.206297Z"
        },
        "id": "DOI2o_E_ebKo",
        "colab_type": "code",
        "colab": {}
      },
      "source": [
        "def create_moch_data(data):\n",
        "    \"\"\" Plot of all spikes that is updated by selected molecules \"\"\"\n",
        "    moch_data = []\n",
        "    for dataset in data:\n",
        "        moch_dataset = dataset.copy()\n",
        "        moch_dataset[np.where( dataset[:, 1] >= 5 * np.std(dataset[:, 1])), 1] = 0\n",
        "        channel_spacing = dataset[1][0] - dataset[0][0]\n",
        "        moch_dataset[np.where( dataset[:, 1] < 3 * np.std(moch_dataset[:, 1])), 1] =  0\n",
        "        moch_dataset[np.where( dataset[:, 1] >= 5 * np.std(dataset[:, 1])), 1] = dataset[\n",
        "            np.where( dataset[:, 1] >= 5 * np.std(dataset[:, 1])), 1]\n",
        "        moch_data.append(moch_dataset)\n",
        "    return moch_data"
      ],
      "execution_count": 0,
      "outputs": []
    },
    {
      "cell_type": "code",
      "metadata": {
        "ExecuteTime": {
          "end_time": "2020-03-27T19:16:28.494295Z",
          "start_time": "2020-03-27T19:16:28.393295Z"
        },
        "id": "HKG49yBjebK2",
        "colab_type": "code",
        "colab": {}
      },
      "source": [
        "def overlay_plot(results, axs):\n",
        "    axs = axs.flat\n",
        "    \n",
        "    # Set the plot background color to black\n",
        "    for ax in axs:\n",
        "        ax.set_facecolor(\"k\")\n",
        "        \n",
        "    # Highlight the spikes for each identified molecule\n",
        "    for molecule in results:\n",
        "        # Iterate through each entry and see if there was a spike\n",
        "        for i in range(1, len(spectral_complete[molecule])):\n",
        "            if spectral_complete[molecule][\"spike\"][i]:\n",
        "                # If so, find which plot to highlight\n",
        "                x = spectral_complete[molecule][\"closest\"][i]/1000\n",
        "                y = spectral_complete[molecule][\"flux\"][i]\n",
        "                if x >= axs[0].get_xlim()[0] and x < axs[0].get_xlim()[1]:\n",
        "                    # Plot 1\n",
        "                    axs[0].plot([x, x], [0, y], color = \"red\", linewidth = 0.25)\n",
        "                elif x >= axs[1].get_xlim()[0] and x < axs[1].get_xlim()[1]:\n",
        "                    # Plot 2\n",
        "                    axs[1].plot([x, x], [0, y], color = \"red\", linewidth = 0.25)\n",
        "                elif x >= axs[2].get_xlim()[0] and x < axs[2].get_xlim()[1]:\n",
        "                    # Plot 3\n",
        "                    axs[2].plot([x, x], [0, y], color = \"red\", linewidth = 0.25)\n",
        "                elif x >= axs[3].get_xlim()[0] and x <= axs[3].get_xlim()[1]:\n",
        "                    # Plot 4\n",
        "                    axs[3].plot([x, x], [0, y], color = \"red\", linewidth = 0.25)\n",
        "                else:\n",
        "                    # Don't plot\n",
        "                    print(\"Could not plot\", molecule, spectral_complete[molecule][\"closest\"][i]/1000)"
      ],
      "execution_count": 0,
      "outputs": []
    },
    {
      "cell_type": "code",
      "metadata": {
        "ExecuteTime": {
          "end_time": "2020-03-27T19:16:30.411341Z",
          "start_time": "2020-03-27T19:16:28.501297Z"
        },
        "scrolled": false,
        "id": "X4R9yVydebLH",
        "colab_type": "code",
        "outputId": "b9fcbe8e-7f9a-4fce-bb7d-dc70d5ee3a3c",
        "colab": {
          "base_uri": "https://localhost:8080/",
          "height": 551
        }
      },
      "source": [
        "moch_data = create_moch_data(data)\n",
        "fig, axs = create_plot(moch_data)\n",
        "axs = axs.flat\n",
        "for ax in axs:\n",
        "        ax.set_facecolor(\"k\")"
      ],
      "execution_count": 0,
      "outputs": [
        {
          "output_type": "display_data",
          "data": {
            "image/png": "[encoded data removed]",
            "text/plain": [
              "<Figure size 1080x648 with 4 Axes>"
            ]
          },
          "metadata": {
            "tags": []
          }
        }
      ]
    },
    {
      "cell_type": "code",
      "metadata": {
        "ExecuteTime": {
          "end_time": "2020-03-27T19:16:32.894039Z",
          "start_time": "2020-03-27T19:16:30.416424Z"
        },
        "id": "TL2MltcaebLQ",
        "colab_type": "code",
        "outputId": "9f1235ec-41be-4f6b-8a8f-21a35a445e44",
        "colab": {
          "base_uri": "https://localhost:8080/",
          "height": 551
        }
      },
      "source": [
        "fig, axs = create_plot(moch_data)\n",
        "overlay_plot(intensity_results.keys(), axs)"
      ],
      "execution_count": 0,
      "outputs": [
        {
          "output_type": "display_data",
          "data": {
            "image/png": "[encoded data removed]",
            "text/plain": [
              "<Figure size 1080x648 with 4 Axes>"
            ]
          },
          "metadata": {
            "tags": []
          }
        }
      ]
    },
    {
      "cell_type": "code",
      "metadata": {
        "ExecuteTime": {
          "end_time": "2020-03-27T19:16:35.284474Z",
          "start_time": "2020-03-27T19:16:32.900947Z"
        },
        "id": "WJhWXnSZebLc",
        "colab_type": "code",
        "outputId": "26886c09-11d4-42c3-f6a8-4645f48b1421",
        "colab": {}
      },
      "source": [
        "fig, axs = create_plot(moch_data)\n",
        "overlay_plot(flux_results.keys(), axs)"
      ],
      "execution_count": 0,
      "outputs": [
        {
          "output_type": "display_data",
          "data": {
            "image/png": "[encoded data removed]",
            "text/plain": [
              "<Figure size 1080x648 with 4 Axes>"
            ]
          },
          "metadata": {
            "tags": [],
            "needs_background": "light"
          }
        }
      ]
    },
    {
      "cell_type": "code",
      "metadata": {
        "id": "VPifbEbhebLr",
        "colab_type": "code",
        "colab": {}
      },
      "source": [
        ""
      ],
      "execution_count": 0,
      "outputs": []
    }
  ]
}