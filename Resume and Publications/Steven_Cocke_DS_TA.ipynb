{
 "cells": [
  {
   "cell_type": "markdown",
   "metadata": {},
   "source": [
    "<div style=\"background: #000;\n",
    "            color: #FFF;\n",
    "            margin: 0px;\n",
    "            padding: 20px 0px 0px 0px;\">\n",
    "    <h1><center>DS TA Technical Assessment</center></h1>\n",
    "</div>\n",
    "\n",
    "### Instructions:\n",
    "\n",
    "1. Rename this Jupyter Notebook to include your name & position you are applying for (Ex. John_Doe_DS TA)\n",
    "2. Submit this file within 3 business days via Github link\n"
   ]
  },
  {
   "cell_type": "markdown",
   "metadata": {},
   "source": [
    "### Exercise 1\n",
    "\n",
    "Create a function that takes two arguments (both arguments being lists) and uses them to create a dictionary. The first argument should be used for the keys and the second argument should be used as the values. Each element should match up (meaning the first element of the first argument/list should be the key while the first element of the second argument/list should be the value). If either list is missing an element that the other has, skip it.\n",
    "\n",
    "Examples\n",
    "```\n",
    "ex1([],[]) -> {}\n",
    "ex1([0,1,2],[]) -> {}\n",
    "ex1(['a', 'b', 'c'], [1,2,3]) -> {'a':1, 'b':2, 'c':3}\n",
    "\n",
    "\n",
    "```"
   ]
  },
  {
   "cell_type": "code",
   "execution_count": 9,
   "metadata": {},
   "outputs": [
    {
     "name": "stdout",
     "output_type": "stream",
     "text": [
      "solution is correct\n"
     ]
    }
   ],
   "source": [
    "def exercise_1(lst1, lst2):\n",
    "    return dict(zip(lst1,lst2))\n",
    "\n",
    "try:\n",
    "    assert(exercise_1([],[]) == {})\n",
    "    assert(exercise_1([0,1,2],[]) == {})\n",
    "    assert(exercise_1([0,1],[0]) == {0: 0})\n",
    "    assert(exercise_1(['a', 'b', 'c'],[1,2,3]) == {'a': 1, 'b': 2, 'c': 3})\n",
    "    print(\"solution is correct\")\n",
    "except AssertionError:\n",
    "    print(\"solution is incorrect\")"
   ]
  },
  {
   "cell_type": "markdown",
   "metadata": {},
   "source": [
    "### Exercise 3\n",
    "\n",
    "Fix the following code:"
   ]
  },
  {
   "cell_type": "code",
   "execution_count": 11,
   "metadata": {},
   "outputs": [
    {
     "name": "stdout",
     "output_type": "stream",
     "text": [
      "printing count:\n",
      "4\n",
      "\n",
      "listing stack:\n",
      "<node - book4>\n",
      "<node - book3>\n",
      "<node - book2>\n",
      "<node - book1>\n",
      "\n",
      "popping from top of stack:\n",
      "<node - book4>\n",
      "\n",
      "listing remaining:\n",
      "<node - book3>\n",
      "<node - book2>\n",
      "<node - book1>\n",
      "\n",
      "printing top of stack:\n",
      "<node - book1>\n"
     ]
    }
   ],
   "source": [
    "class Node:\n",
    "    def __init__(self, data=None):\n",
    "        self.data = data\n",
    "        self.previous = None\n",
    "    \n",
    "    def __repr__(self):\n",
    "        return f\"<node - {self.data}>\"\n",
    "        \n",
    "class Stack:\n",
    "    def __init__(self):\n",
    "        self.top = None\n",
    "        self.bottom = None\n",
    "        self.count = 0\n",
    "        \n",
    "    def print_items(self):\n",
    "        current_item = self.top\n",
    "        while current_item:\n",
    "            val = current_item.data\n",
    "            print(current_item)\n",
    "            current_item = current_item.previous\n",
    "            \n",
    "    def add(self, data=None):\n",
    "        node = Node(data)\n",
    "        if self.top:\n",
    "            ##################\n",
    "            # fix this part: #\n",
    "            ##################\n",
    "            \n",
    "            node.previous = self.top\n",
    "            self.top = node\n",
    "            \n",
    "            ##################\n",
    "            #   end of part  #\n",
    "            ##################\n",
    "        else:\n",
    "            self.top = node\n",
    "            self.bottom = node\n",
    "        self.count += 1\n",
    "        \n",
    "    def pop(self):\n",
    "        if self.top:\n",
    "            old_top = self.top\n",
    "            self.top = old_top.previous\n",
    "            return old_top\n",
    "        else:\n",
    "            return \"empty stack\"\n",
    "\n",
    "        \n",
    "stack = Stack()\n",
    "stack.add('book1')\n",
    "stack.add('book2')\n",
    "stack.add('book3')\n",
    "stack.add('book4')\n",
    "print(\"printing count:\")\n",
    "print(stack.count)\n",
    "print(\"\\nlisting stack:\")\n",
    "stack.print_items()\n",
    "print(\"\\npopping from top of stack:\")\n",
    "print(stack.pop())\n",
    "print(\"\\nlisting remaining:\")\n",
    "stack.print_items()\n",
    "print(\"\\nprinting top of stack:\")\n",
    "print(stack.bottom)"
   ]
  },
  {
   "cell_type": "markdown",
   "metadata": {},
   "source": [
    "#### Exercise 15\n",
    "\n",
    "Write a function that creates a domain name given a `subdomain`, a `domain`, a `tld` and a boolean for `secure`.\n",
    "\n",
    "Use the following arguments:\n",
    "\n",
    "```\n",
    "domain - a string given as input\n",
    "subdomain - either a string given as input or \"www\" by default\n",
    "tld - either a  string given as input or \"com\" (as in .com) by default\n",
    "secure - boolean argument that sets \"https\" if 'secure' is true otherwise use \"http\"\n",
    "```\n",
    "examples:\n",
    "```\n",
    "make_url(\"google\") -> \"https://www.google.com\"\n",
    "make_url(\"example\", subdomain=None, tld=\"com\", secure=False) -> \"http://example.com\"\n",
    "make_url(\"theknowledgehouse\", tld=\"org\", secure=True) -> \"https://www.theknowledgehouse.org\"\n",
    "```\n",
    "\n",
    "Note: A subdomain is optional but providing one means you need to add a period between the subdomain and the domain. So if a subdomain is `None`, you do NOT want to add a period after it. If one is provided, you DO."
   ]
  },
  {
   "cell_type": "code",
   "execution_count": 49,
   "metadata": {},
   "outputs": [
    {
     "name": "stdout",
     "output_type": "stream",
     "text": [
      "https://www.google.com\n",
      "http://example.com\n",
      "https://www.theknowledgehouse.org\n",
      "solution is correct\n"
     ]
    }
   ],
   "source": [
    "def make_url(domain, subdomain=\"www\", tld=None, secure=True):\n",
    "    if subdomain==None:\n",
    "        subdomain = \"\"\n",
    "    else: subdomain = subdomain + '.'\n",
    "    \n",
    "    if tld:\n",
    "        if tld[0] == '.':\n",
    "            tld = tld\n",
    "        else: tld = '.' + tld\n",
    "    else: tld = \".com\"\n",
    "        \n",
    "    if secure == False:\n",
    "        security = \"http://\"\n",
    "    else: security = \"https://\"\n",
    "        \n",
    "    return security + subdomain + domain + tld\n",
    "        \n",
    "print(make_url(\"google\"))  \n",
    "print(make_url(\"example\", subdomain=None, tld=\"com\", secure=False))  \n",
    "print(make_url(\"theknowledgehouse\", tld=\"org\", secure=True))\n",
    "try:\n",
    "    assert(make_url(\"google\") == \"https://www.google.com\")\n",
    "    assert(make_url(\"example\", subdomain=None, tld=\"com\", secure=False) == \"http://example.com\")\n",
    "    assert(make_url(\"theknowledgehouse\", tld=\"org\", secure=True) == \"https://www.theknowledgehouse.org\")\n",
    "    print(\"solution is correct\")\n",
    "except AssertionError:\n",
    "    print(\"solution is incorrect\")"
   ]
  },
  {
   "cell_type": "markdown",
   "metadata": {},
   "source": [
    "### Exercise 16\n",
    "\n",
    "Create a function that creates a `n` by `n` matrix (`n` rows and `n` columns) filled with zeros."
   ]
  },
  {
   "cell_type": "code",
   "execution_count": 51,
   "metadata": {},
   "outputs": [
    {
     "name": "stdout",
     "output_type": "stream",
     "text": [
      "solution is correct\n"
     ]
    }
   ],
   "source": [
    "def exercise_16(n):\n",
    "    return [[0]*n]*n\n",
    "\n",
    "try:\n",
    "    assert(exercise_16(1) == [[0]])\n",
    "    assert(exercise_16(2) == [[0, 0], [0, 0]])\n",
    "    assert(exercise_16(3) == [[0, 0, 0], [0, 0, 0], [0, 0, 0]])\n",
    "    assert(exercise_16(4) == [[0, 0, 0, 0], [0, 0, 0, 0], [0, 0, 0, 0], [0, 0, 0, 0]])\n",
    "    print(\"solution is correct\")\n",
    "except AssertionError:\n",
    "    print(\"solution is incorrect\")"
   ]
  },
  {
   "cell_type": "markdown",
   "metadata": {},
   "source": [
    "### Exercise 19\n",
    "\n",
    "Add a method called `from_full_name` to the following function so that we are able to create an instance of the class by passing the a full name (string of first and last name separated by a space). Do not remove anything that already exists. Then create an instance using that method."
   ]
  },
  {
   "cell_type": "code",
   "execution_count": 60,
   "metadata": {},
   "outputs": [
    {
     "name": "stdout",
     "output_type": "stream",
     "text": [
      "solution should probably be correct (not guaranteed)\n"
     ]
    }
   ],
   "source": [
    "import inspect # this is necessary for checking your answer - ignore\n",
    "\n",
    "class Person:\n",
    "     def __init__(self, first_name, last_name):\n",
    "        self.first_name = first_name\n",
    "        self.last_name = last_name\n",
    "     @classmethod\n",
    "     def from_full_name(clss, full_name):\n",
    "        first, last = full_name.split(' ')\n",
    "        return clss(first, last)\n",
    "try:\n",
    "    p = Person.from_full_name(\"A P\")\n",
    "    assert(getattr(p, 'first_name', None) == \"A\")\n",
    "    assert(getattr(p, 'last_name', None) == \"P\")\n",
    "    assert(inspect.ismethod(Person.from_full_name) and Person.from_full_name.__self__ is Person)\n",
    "    print(\"solution should probably be correct (not guaranteed)\")\n",
    "except AssertionError:\n",
    "    print(\"solution is incorrect\")  "
   ]
  },
  {
   "cell_type": "code",
   "execution_count": null,
   "metadata": {},
   "outputs": [],
   "source": []
  }
 ],
 "metadata": {
  "kernelspec": {
   "display_name": "Python 3",
   "language": "python",
   "name": "python3"
  },
  "language_info": {
   "codemirror_mode": {
    "name": "ipython",
    "version": 3
   },
   "file_extension": ".py",
   "mimetype": "text/x-python",
   "name": "python",
   "nbconvert_exporter": "python",
   "pygments_lexer": "ipython3",
   "version": "3.8.8"
  }
 },
 "nbformat": 4,
 "nbformat_minor": 4
}
